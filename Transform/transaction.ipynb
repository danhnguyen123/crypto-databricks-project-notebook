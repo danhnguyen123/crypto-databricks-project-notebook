{
 "cells": [
  {
   "cell_type": "code",
   "execution_count": 0,
   "metadata": {
    "application/vnd.databricks.v1+cell": {
     "cellMetadata": {
      "byteLimit": 2048000,
      "rowLimit": 10000
     },
     "inputWidgets": {},
     "nuid": "0e43247b-36a6-4e69-ad60-af4d3339fd81",
     "showTitle": false,
     "tableResultSettingsMap": {},
     "title": ""
    }
   },
   "outputs": [],
   "source": [
    "%run ../Utilities/configuration"
   ]
  },
  {
   "cell_type": "code",
   "execution_count": 0,
   "metadata": {
    "application/vnd.databricks.v1+cell": {
     "cellMetadata": {
      "byteLimit": 2048000,
      "rowLimit": 10000
     },
     "inputWidgets": {},
     "nuid": "2c82cf58-e1cf-4b40-939d-c72f80cfb66a",
     "showTitle": false,
     "tableResultSettingsMap": {},
     "title": ""
    }
   },
   "outputs": [],
   "source": [
    "%run ../Utilities/common_functions"
   ]
  },
  {
   "cell_type": "code",
   "execution_count": 0,
   "metadata": {
    "application/vnd.databricks.v1+cell": {
     "cellMetadata": {
      "byteLimit": 2048000,
      "rowLimit": 10000
     },
     "inputWidgets": {},
     "nuid": "87f88d1e-ce33-46a7-b7e2-22450c521449",
     "showTitle": false,
     "tableResultSettingsMap": {},
     "title": ""
    }
   },
   "outputs": [],
   "source": [
    "from pyspark.sql import functions as F\n",
    "from delta.tables import DeltaTable"
   ]
  },
  {
   "cell_type": "code",
   "execution_count": 0,
   "metadata": {
    "application/vnd.databricks.v1+cell": {
     "cellMetadata": {},
     "inputWidgets": {},
     "nuid": "4aa5bf04-7e33-4120-af66-42af3194f32d",
     "showTitle": false,
     "tableResultSettingsMap": {},
     "title": ""
    }
   },
   "outputs": [],
   "source": [
    "import json \n",
    "context = json.loads(dbutils.notebook.entry_point.getDbutils().notebook().getContext().toJson())\n",
    "logger = f_get_configured_logger(context)"
   ]
  },
  {
   "cell_type": "code",
   "execution_count": 0,
   "metadata": {
    "application/vnd.databricks.v1+cell": {
     "cellMetadata": {
      "byteLimit": 2048000,
      "rowLimit": 10000
     },
     "inputWidgets": {},
     "nuid": "606aad9c-ee67-426f-acb8-138bfa3d10ff",
     "showTitle": false,
     "tableResultSettingsMap": {},
     "title": ""
    }
   },
   "outputs": [],
   "source": [
    "TABLE_NAME = \"transaction\""
   ]
  },
  {
   "cell_type": "code",
   "execution_count": 0,
   "metadata": {
    "application/vnd.databricks.v1+cell": {
     "cellMetadata": {
      "byteLimit": 2048000,
      "rowLimit": 10000
     },
     "inputWidgets": {},
     "nuid": "f94e1c59-4e1f-49aa-a4e6-29c7db95c73f",
     "showTitle": false,
     "tableResultSettingsMap": {},
     "title": ""
    }
   },
   "outputs": [],
   "source": [
    "df_staging = DeltaTable.forName(spark, f\"{CATALOG}.{BRONZE_SCHEMA}.{TABLE_NAME}\")"
   ]
  },
  {
   "cell_type": "code",
   "execution_count": 0,
   "metadata": {
    "application/vnd.databricks.v1+cell": {
     "cellMetadata": {
      "byteLimit": 2048000,
      "rowLimit": 10000
     },
     "inputWidgets": {},
     "nuid": "df108387-86cf-4299-86d3-955e2feadb6b",
     "showTitle": false,
     "tableResultSettingsMap": {},
     "title": ""
    }
   },
   "outputs": [],
   "source": [
    "try:\n",
    "    df_select = (df_staging.toDF()\n",
    "        .select(\n",
    "            F.col(\"id\").alias(\"transaction_id\"), \n",
    "            F.col(\"customer_id\").alias(\"customer_id\"), \n",
    "            F.col(\"date\"),\n",
    "            F.col(\"market_execution_json\"),\n",
    "            F.col(\"market_execution_json.source_amount\").alias(\"source_amount\"),\n",
    "            F.col(\"market_execution_json.destination_amount\").alias(\"destination_amount\"),\n",
    "            F.col(\"network\"),\n",
    "            F.col(\"txn_date\"),\n",
    "            F.col(\"load_timestamp\"),\n",
    "        )\n",
    "    )\n",
    "except Exception as e:\n",
    "    logger.error(e)\n",
    "    f_push_alert_message(str(e), context)\n",
    "    raise(e)"
   ]
  },
  {
   "cell_type": "code",
   "execution_count": 0,
   "metadata": {
    "application/vnd.databricks.v1+cell": {
     "cellMetadata": {
      "byteLimit": 2048000,
      "rowLimit": 10000
     },
     "inputWidgets": {},
     "nuid": "02620609-7a33-486b-b3ea-0d7eaba49157",
     "showTitle": false,
     "tableResultSettingsMap": {},
     "title": ""
    }
   },
   "outputs": [],
   "source": [
    "try:\n",
    "    df = (df_select\n",
    "        .withColumn(\"transaction_time\", F.from_unixtime(F.col(\"date\")).cast(\"timestamp\"))\n",
    "        .withColumn(\"execution_plan\", F.when(F.col(\"market_execution_json\").getItem(\"pool\").isNotNull(), \"pool\").otherwise(\"order_book\"))\n",
    "        .withColumn(\"pool_id\", F.expr(\"transform(market_execution_json.pool.split_swaps, swap -> swap.swap_route[0].pool_id)\"))\n",
    "        .withColumn(\"order_book_id\", F.expr(\"transform(market_execution_json.hybrid.SplitSwapResults, swap -> swap.order_book_filled_order_ids[0])\"))\n",
    "        .withColumn(\"protocol_fee_token\",\n",
    "            F.when(\n",
    "                F.col(\"market_execution_json.pool\").isNotNull(),\n",
    "                F.col(\"market_execution_json.pool.protocol_fees\")[0][\"token\"]\n",
    "            ).otherwise(F.col(\"market_execution_json.protocol_fees\")[0][\"token\"])\n",
    "        )\n",
    "        .withColumn(\"protocol_fee_amount\",\n",
    "            F.when(\n",
    "                F.col(\"market_execution_json.pool\").isNotNull(),\n",
    "                F.col(\"market_execution_json.pool.protocol_fees\")[0][\"amount\"]\n",
    "            ).otherwise(F.col(\"market_execution_json.protocol_fees\")[0][\"amount\"])\n",
    "        )\n",
    "        .withColumn(\"swap_count\",\n",
    "            F.when(\n",
    "                F.col(\"market_execution_json.hybrid\").isNotNull(),\n",
    "                F.size(F.col(\"market_execution_json.hybrid.SplitSwapResults\"))\n",
    "            ).otherwise(F.size(F.col(\"market_execution_json.pool.split_swaps\")))\n",
    "        )\n",
    "    )\n",
    "except Exception as e:\n",
    "    logger.error(e)\n",
    "    f_push_alert_message(str(e), context)\n",
    "    raise(e)"
   ]
  },
  {
   "cell_type": "code",
   "execution_count": 0,
   "metadata": {
    "application/vnd.databricks.v1+cell": {
     "cellMetadata": {
      "byteLimit": 2048000,
      "rowLimit": 10000
     },
     "inputWidgets": {},
     "nuid": "96acaddb-fae0-478e-86bc-69d8c2f5b52b",
     "showTitle": false,
     "tableResultSettingsMap": {},
     "title": ""
    }
   },
   "outputs": [],
   "source": [
    "df = df.select(\"transaction_id\", \n",
    "               \"customer_id\", \n",
    "               \"transaction_time\", \n",
    "               \"execution_plan\", \n",
    "               \"pool_id\", \n",
    "               \"order_book_id\",\n",
    "               \"protocol_fee_token\",\n",
    "               \"protocol_fee_amount\",\n",
    "               \"swap_count\",\n",
    "               \"network\",\n",
    "               \"txn_date\",\n",
    "               \"load_timestamp\"\n",
    "               )\n"
   ]
  },
  {
   "cell_type": "code",
   "execution_count": 0,
   "metadata": {
    "application/vnd.databricks.v1+cell": {
     "cellMetadata": {
      "byteLimit": 2048000,
      "rowLimit": 10000
     },
     "inputWidgets": {},
     "nuid": "fcfd4075-bd30-4335-8ec0-e7496d8299b3",
     "showTitle": false,
     "tableResultSettingsMap": {},
     "title": ""
    }
   },
   "outputs": [
    {
     "output_type": "execute_result",
     "data": {
      "text/plain": [
       "DataFrame[transaction_id: bigint, customer_id: bigint, transaction_time: timestamp, execution_plan: string, pool_id: array<bigint>, order_book_id: array<bigint>, protocol_fee_token: string, protocol_fee_amount: bigint, swap_count: int, network: string, txn_date: string, load_timestamp: timestamp]"
      ]
     },
     "execution_count": 182,
     "metadata": {},
     "output_type": "execute_result"
    }
   ],
   "source": [
    "df.cache()"
   ]
  },
  {
   "cell_type": "code",
   "execution_count": 0,
   "metadata": {
    "application/vnd.databricks.v1+cell": {
     "cellMetadata": {
      "byteLimit": 2048000,
      "rowLimit": 10000
     },
     "inputWidgets": {},
     "nuid": "2f639e77-d23f-42a4-a106-efc54ef6cf01",
     "showTitle": false,
     "tableResultSettingsMap": {},
     "title": ""
    }
   },
   "outputs": [
    {
     "output_type": "execute_result",
     "data": {
      "text/plain": [
       "[Row(transaction_id=1111, customer_id=11101, transaction_time=datetime.datetime(2023, 10, 28, 1, 10, 11), execution_plan='order_book', pool_id=None, order_book_id=[23578333, 23578333, 23578333, 23578333, 23578333, 23578333, 23578333, 23578333, 23578333, 23578333], protocol_fee_token='sol', protocol_fee_amount=7583670275000000, swap_count=10, network='network_1', txn_date='2023-10-28', load_timestamp=datetime.datetime(2024, 11, 6, 5, 51, 23, 24000))]"
      ]
     },
     "execution_count": 183,
     "metadata": {},
     "output_type": "execute_result"
    }
   ],
   "source": [
    "df.take(1)"
   ]
  },
  {
   "cell_type": "code",
   "execution_count": 0,
   "metadata": {
    "application/vnd.databricks.v1+cell": {
     "cellMetadata": {
      "byteLimit": 2048000,
      "rowLimit": 10000
     },
     "inputWidgets": {},
     "nuid": "11ddac3f-0729-443a-99a4-7b7d2cc152aa",
     "showTitle": false,
     "tableResultSettingsMap": {},
     "title": ""
    }
   },
   "outputs": [
    {
     "output_type": "execute_result",
     "data": {
      "text/plain": [
       "' tgt.transaction_id=src.transaction_id AND tgt.network=src.network'"
      ]
     },
     "execution_count": 184,
     "metadata": {},
     "output_type": "execute_result"
    }
   ],
   "source": [
    "# Detect merge condition\n",
    "merge_condition = f_get_primary_key(df)\n",
    "merge_condition"
   ]
  },
  {
   "cell_type": "code",
   "execution_count": 0,
   "metadata": {
    "application/vnd.databricks.v1+cell": {
     "cellMetadata": {
      "byteLimit": 2048000,
      "rowLimit": 10000
     },
     "inputWidgets": {},
     "nuid": "26165d04-0771-4ac3-8aff-b70e36a7112f",
     "showTitle": false,
     "tableResultSettingsMap": {},
     "title": ""
    }
   },
   "outputs": [],
   "source": [
    "# Incremental load\n",
    "try:\n",
    "    f_merge_delta_data(df, CATALOG, SILVER_SCHEMA, TABLE_NAME, merge_condition, 'txn_date')\n",
    "except Exception as e:\n",
    "    logger.error(e)\n",
    "    f_push_alert_message(str(e), context)\n",
    "    raise(e)"
   ]
  },
  {
   "cell_type": "code",
   "execution_count": 0,
   "metadata": {
    "application/vnd.databricks.v1+cell": {
     "cellMetadata": {
      "byteLimit": 2048000,
      "rowLimit": 10000
     },
     "inputWidgets": {},
     "nuid": "418cd2d4-6e39-4f32-ae56-de0a51af0d51",
     "showTitle": false,
     "tableResultSettingsMap": {},
     "title": ""
    }
   },
   "outputs": [
    {
     "output_type": "execute_result",
     "data": {
      "text/plain": [
       "DataFrame[transaction_id: bigint, customer_id: bigint, transaction_time: timestamp, execution_plan: string, pool_id: array<bigint>, order_book_id: array<bigint>, protocol_fee_token: string, protocol_fee_amount: bigint, swap_count: int, network: string, txn_date: string, load_timestamp: timestamp]"
      ]
     },
     "execution_count": 186,
     "metadata": {},
     "output_type": "execute_result"
    }
   ],
   "source": [
    "df.unpersist()"
   ]
  },
  {
   "cell_type": "code",
   "execution_count": 0,
   "metadata": {
    "application/vnd.databricks.v1+cell": {
     "cellMetadata": {
      "byteLimit": 2048000,
      "rowLimit": 10000
     },
     "inputWidgets": {},
     "nuid": "6546c97f-d8d7-41c7-93db-9d6ff3b53bc8",
     "showTitle": false,
     "tableResultSettingsMap": {},
     "title": ""
    }
   },
   "outputs": [],
   "source": [
    "dbutils.notebook.exit(\"Success\")"
   ]
  }
 ],
 "metadata": {
  "application/vnd.databricks.v1+notebook": {
   "dashboards": [],
   "environmentMetadata": {
    "base_environment": "",
    "client": "1"
   },
   "language": "python",
   "notebookMetadata": {
    "pythonIndentUnit": 4
   },
   "notebookName": "transaction",
   "widgets": {}
  },
  "language_info": {
   "name": "python"
  }
 },
 "nbformat": 4,
 "nbformat_minor": 0
}
