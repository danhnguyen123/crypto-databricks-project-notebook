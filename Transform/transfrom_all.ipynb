{
 "cells": [
  {
   "cell_type": "code",
   "execution_count": 0,
   "metadata": {
    "application/vnd.databricks.v1+cell": {
     "cellMetadata": {},
     "inputWidgets": {},
     "nuid": "e8f5d55e-a829-4ffa-9e98-e315960d0044",
     "showTitle": false,
     "tableResultSettingsMap": {},
     "title": ""
    }
   },
   "outputs": [],
   "source": [
    "%run ../Utilities/common_functions"
   ]
  },
  {
   "cell_type": "code",
   "execution_count": 0,
   "metadata": {
    "application/vnd.databricks.v1+cell": {
     "cellMetadata": {},
     "inputWidgets": {},
     "nuid": "b533c0c6-b79b-4c03-9cde-9b07b461786d",
     "showTitle": false,
     "tableResultSettingsMap": {},
     "title": ""
    }
   },
   "outputs": [],
   "source": [
    "import json \n",
    "context = json.loads(dbutils.notebook.entry_point.getDbutils().notebook().getContext().toJson())\n",
    "logger = f_get_configured_logger(context)"
   ]
  },
  {
   "cell_type": "code",
   "execution_count": 0,
   "metadata": {
    "application/vnd.databricks.v1+cell": {
     "cellMetadata": {},
     "inputWidgets": {},
     "nuid": "21b56936-2061-412d-bd06-6dc38a372a84",
     "showTitle": false,
     "tableResultSettingsMap": {},
     "title": ""
    }
   },
   "outputs": [],
   "source": [
    "try:\n",
    "    v_result = dbutils.notebook.run(\"transaction\", 0)\n",
    "    v_result\n",
    "except Exception as e:\n",
    "    error_message = f\"Unknown error: {e}\"\n",
    "    error_message = f\"{error_message}\\n{traceback.format_exc()}\"\n",
    "    logger.error(error_message)\n",
    "    f_push_alert_message(error_message, context)\n",
    "    raise e\n"
   ]
  }
 ],
 "metadata": {
  "application/vnd.databricks.v1+notebook": {
   "dashboards": [],
   "environmentMetadata": {
    "base_environment": "",
    "client": "1"
   },
   "language": "python",
   "notebookMetadata": {
    "pythonIndentUnit": 4
   },
   "notebookName": "transfrom_all",
   "widgets": {}
  },
  "language_info": {
   "name": "python"
  }
 },
 "nbformat": 4,
 "nbformat_minor": 0
}
