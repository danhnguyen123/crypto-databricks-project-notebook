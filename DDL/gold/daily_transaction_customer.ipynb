{
 "cells": [
  {
   "cell_type": "code",
   "execution_count": 0,
   "metadata": {
    "application/vnd.databricks.v1+cell": {
     "cellMetadata": {},
     "inputWidgets": {},
     "nuid": "b0c832bf-37ad-4875-8cdb-2d74e7c09398",
     "showTitle": false,
     "tableResultSettingsMap": {},
     "title": ""
    }
   },
   "outputs": [],
   "source": [
    "%sql\n",
    "CREATE TABLE IF NOT EXISTS crypto_lakehouse_dev.gold.daily_transaction_customer (\n",
    "    customer_id LONG,\n",
    "    day_time STRING,\n",
    "    protocol_fee_amount LONG,\n",
    "    composite_key STRING,\n",
    "    month LONG,\n",
    "    year LONG\n",
    ")\n",
    "USING DELTA\n",
    "PARTITIONED BY (year, month)"
   ]
  }
 ],
 "metadata": {
  "application/vnd.databricks.v1+notebook": {
   "dashboards": [],
   "environmentMetadata": {
    "base_environment": "",
    "client": "1"
   },
   "language": "python",
   "notebookMetadata": {
    "pythonIndentUnit": 4
   },
   "notebookName": "daily_transaction_customer",
   "widgets": {}
  },
  "language_info": {
   "name": "python"
  }
 },
 "nbformat": 4,
 "nbformat_minor": 0
}
