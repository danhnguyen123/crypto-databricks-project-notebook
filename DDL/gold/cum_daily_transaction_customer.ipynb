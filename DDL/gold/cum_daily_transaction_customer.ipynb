{
 "cells": [
  {
   "cell_type": "code",
   "execution_count": null,
   "metadata": {
    "vscode": {
     "languageId": "plaintext"
    }
   },
   "outputs": [],
   "source": [
    "%sql\n",
    "CREATE TABLE IF NOT EXISTS crypto_lakehouse_dev.gold.cum_daily_transaction_customer (\n",
    "    customer_id LONG,\n",
    "    day_time STRING,\n",
    "    protocol_fee_amount LONG,\n",
    "    composite_key STRING,\n",
    "    month LONG,\n",
    "    year LONG\n",
    ")\n",
    "USING DELTA\n",
    "PARTITIONED BY (year, month)"
   ]
  }
 ],
 "metadata": {
  "language_info": {
   "name": "python"
  }
 },
 "nbformat": 4,
 "nbformat_minor": 2
}
