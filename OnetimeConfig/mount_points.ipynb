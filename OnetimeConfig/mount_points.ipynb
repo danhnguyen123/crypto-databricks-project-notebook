{
 "cells": [
  {
   "cell_type": "code",
   "execution_count": 0,
   "metadata": {
    "application/vnd.databricks.v1+cell": {
     "cellMetadata": {
      "byteLimit": 2048000,
      "rowLimit": 10000
     },
     "inputWidgets": {},
     "nuid": "1bf90492-4c2c-4f04-b6c2-2dd64451e87f",
     "showTitle": false,
     "tableResultSettingsMap": {},
     "title": ""
    }
   },
   "outputs": [],
   "source": [
    "%run ../Utilities/common_functions"
   ]
  },
  {
   "cell_type": "code",
   "execution_count": 0,
   "metadata": {
    "application/vnd.databricks.v1+cell": {
     "cellMetadata": {
      "byteLimit": 2048000,
      "rowLimit": 10000
     },
     "inputWidgets": {},
     "nuid": "f5344b6c-b030-4b1c-85c3-dce65bcd336c",
     "showTitle": false,
     "tableResultSettingsMap": {},
     "title": ""
    }
   },
   "outputs": [],
   "source": [
    "import os"
   ]
  },
  {
   "cell_type": "code",
   "execution_count": 0,
   "metadata": {
    "application/vnd.databricks.v1+cell": {
     "cellMetadata": {
      "byteLimit": 2048000,
      "rowLimit": 10000
     },
     "inputWidgets": {},
     "nuid": "37852d05-34dc-4890-aa44-aae9ff140ddf",
     "showTitle": false,
     "tableResultSettingsMap": {},
     "title": ""
    }
   },
   "outputs": [
    {
     "output_type": "display_data",
     "data": {
      "text/html": [
       "<style scoped>\n",
       "  .table-result-container {\n",
       "    max-height: 300px;\n",
       "    overflow: auto;\n",
       "  }\n",
       "  table, th, td {\n",
       "    border: 1px solid black;\n",
       "    border-collapse: collapse;\n",
       "  }\n",
       "  th, td {\n",
       "    padding: 5px;\n",
       "  }\n",
       "  th {\n",
       "    text-align: left;\n",
       "  }\n",
       "</style><div class='table-result-container'><table class='table-result'><thead style='background-color: white'><tr><th>mountPoint</th><th>source</th><th>encryptionType</th></tr></thead><tbody><tr><td>/databricks-datasets</td><td>databricks-datasets</td><td></td></tr><tr><td>/mnt/crypto-lakehouse-dev/silver</td><td>s3a://crypto-lakehouse-dev</td><td></td></tr><tr><td>/mnt/devdeltaplayground/silver</td><td>abfss://silver@devdeltaplayground.dfs.core.windows.net/</td><td></td></tr><tr><td>/Volumes</td><td>UnityCatalogVolumes</td><td></td></tr><tr><td>/mnt/sourceblobplayground/raw</td><td>wasbs://raw@sourceblobplayground.blob.core.windows.net</td><td></td></tr><tr><td>/databricks/mlflow-tracking</td><td>databricks/mlflow-tracking</td><td>sse-s3</td></tr><tr><td>/databricks-results</td><td>databricks-results</td><td>sse-s3</td></tr><tr><td>/databricks/mlflow-registry</td><td>databricks/mlflow-registry</td><td>sse-s3</td></tr><tr><td>/mnt/crypto-lakehouse-prod/gold</td><td>s3a://crypto-lakehouse-prod</td><td></td></tr><tr><td>/mnt/crypto-lakehouse-dev/bronze</td><td>s3a://crypto-lakehouse-dev</td><td></td></tr><tr><td>/mnt/devdeltaplayground/bronze</td><td>abfss://bronze@devdeltaplayground.dfs.core.windows.net/</td><td></td></tr><tr><td>/mnt/crypto-lakehouse-prod/silver</td><td>s3a://crypto-lakehouse-prod</td><td></td></tr><tr><td>/mnt/crypto-lakehouse-prod/bronze</td><td>s3a://crypto-lakehouse-prod</td><td></td></tr><tr><td>/mnt/devdeltaplayground/gold</td><td>abfss://gold@devdeltaplayground.dfs.core.windows.net/</td><td></td></tr><tr><td>/Volume</td><td>DbfsReserved</td><td></td></tr><tr><td>/mnt/crypto-lakehouse-dev/gold</td><td>s3a://crypto-lakehouse-dev</td><td></td></tr><tr><td>/mnt/sourceadlsplayground/raw</td><td>abfss://raw@sourceadlsplayground.dfs.core.windows.net/</td><td></td></tr><tr><td>/volumes</td><td>DbfsReserved</td><td></td></tr><tr><td>/mnt/crypto-transaction-networks/unstructured_data</td><td>s3a://crypto-transaction-networks</td><td></td></tr><tr><td>/</td><td>DatabricksRoot</td><td>sse-s3</td></tr><tr><td>/volume</td><td>DbfsReserved</td><td></td></tr></tbody></table></div>"
      ]
     },
     "metadata": {
      "application/vnd.databricks.v1+output": {
       "addedWidgets": {},
       "aggData": [],
       "aggError": "",
       "aggOverflow": false,
       "aggSchema": [],
       "aggSeriesLimitReached": false,
       "aggType": "",
       "arguments": {},
       "columnCustomDisplayInfos": {},
       "data": [
        [
         "/databricks-datasets",
         "databricks-datasets",
         ""
        ],
        [
         "/mnt/crypto-lakehouse-dev/silver",
         "s3a://crypto-lakehouse-dev",
         ""
        ],
        [
         "/mnt/devdeltaplayground/silver",
         "abfss://silver@devdeltaplayground.dfs.core.windows.net/",
         ""
        ],
        [
         "/Volumes",
         "UnityCatalogVolumes",
         ""
        ],
        [
         "/mnt/sourceblobplayground/raw",
         "wasbs://raw@sourceblobplayground.blob.core.windows.net",
         ""
        ],
        [
         "/databricks/mlflow-tracking",
         "databricks/mlflow-tracking",
         "sse-s3"
        ],
        [
         "/databricks-results",
         "databricks-results",
         "sse-s3"
        ],
        [
         "/databricks/mlflow-registry",
         "databricks/mlflow-registry",
         "sse-s3"
        ],
        [
         "/mnt/crypto-lakehouse-prod/gold",
         "s3a://crypto-lakehouse-prod",
         ""
        ],
        [
         "/mnt/crypto-lakehouse-dev/bronze",
         "s3a://crypto-lakehouse-dev",
         ""
        ],
        [
         "/mnt/devdeltaplayground/bronze",
         "abfss://bronze@devdeltaplayground.dfs.core.windows.net/",
         ""
        ],
        [
         "/mnt/crypto-lakehouse-prod/silver",
         "s3a://crypto-lakehouse-prod",
         ""
        ],
        [
         "/mnt/crypto-lakehouse-prod/bronze",
         "s3a://crypto-lakehouse-prod",
         ""
        ],
        [
         "/mnt/devdeltaplayground/gold",
         "abfss://gold@devdeltaplayground.dfs.core.windows.net/",
         ""
        ],
        [
         "/Volume",
         "DbfsReserved",
         ""
        ],
        [
         "/mnt/crypto-lakehouse-dev/gold",
         "s3a://crypto-lakehouse-dev",
         ""
        ],
        [
         "/mnt/sourceadlsplayground/raw",
         "abfss://raw@sourceadlsplayground.dfs.core.windows.net/",
         ""
        ],
        [
         "/volumes",
         "DbfsReserved",
         ""
        ],
        [
         "/mnt/crypto-transaction-networks/unstructured_data",
         "s3a://crypto-transaction-networks",
         ""
        ],
        [
         "/",
         "DatabricksRoot",
         "sse-s3"
        ],
        [
         "/volume",
         "DbfsReserved",
         ""
        ]
       ],
       "datasetInfos": [],
       "dbfsResultPath": null,
       "isJsonSchema": true,
       "metadata": {},
       "overflow": false,
       "plotOptions": {
        "customPlotOptions": {},
        "displayType": "table",
        "pivotAggregation": null,
        "pivotColumns": null,
        "xColumns": null,
        "yColumns": null
       },
       "removedWidgets": [],
       "schema": [
        {
         "metadata": "{}",
         "name": "mountPoint",
         "type": "\"string\""
        },
        {
         "metadata": "{}",
         "name": "source",
         "type": "\"string\""
        },
        {
         "metadata": "{}",
         "name": "encryptionType",
         "type": "\"string\""
        }
       ],
       "type": "table"
      }
     },
     "output_type": "display_data"
    }
   ],
   "source": [
    "display(dbutils.fs.mounts())"
   ]
  },
  {
   "cell_type": "code",
   "execution_count": 0,
   "metadata": {
    "application/vnd.databricks.v1+cell": {
     "cellMetadata": {
      "byteLimit": 2048000,
      "rowLimit": 10000
     },
     "inputWidgets": {},
     "nuid": "e7e87a1c-9212-42ce-a735-eb2170f9a6e9",
     "showTitle": false,
     "tableResultSettingsMap": {},
     "title": ""
    }
   },
   "outputs": [],
   "source": [
    "\n",
    "access_key = f_get_secret(key=\"aws-access-key\")\n",
    "secret_key = f_get_secret(key=\"aws-secret-key\")\n",
    "encoded_secret_key = secret_key.replace(\"/\", \"%2F\")\n",
    "BUCKET_SOURCE = os.getenv(\"BUCKET_SOURCE\", \"crypto-transaction-networks\")\n",
    "BUCKET_SINK_DEV = os.getenv(\"BUCKET_SINK_DEV\", \"crypto-lakehouse-dev\")\n",
    "BUCKET_SINK = os.getenv(\"LOG_LEVEL\", \"crypto-lakehouse-prod\")"
   ]
  },
  {
   "cell_type": "markdown",
   "metadata": {
    "application/vnd.databricks.v1+cell": {
     "cellMetadata": {
      "byteLimit": 2048000,
      "rowLimit": 10000
     },
     "inputWidgets": {},
     "nuid": "95c1ef6f-e1e6-4210-b34d-3ecf6504ec50",
     "showTitle": false,
     "tableResultSettingsMap": {},
     "title": ""
    }
   },
   "source": [
    "### Mount Source"
   ]
  },
  {
   "cell_type": "code",
   "execution_count": 0,
   "metadata": {
    "application/vnd.databricks.v1+cell": {
     "cellMetadata": {
      "byteLimit": 2048000,
      "rowLimit": 10000
     },
     "inputWidgets": {},
     "nuid": "5a468f69-cc03-404c-b59b-a952c2eeea6e",
     "showTitle": false,
     "tableResultSettingsMap": {},
     "title": ""
    }
   },
   "outputs": [
    {
     "output_type": "stream",
     "name": "stdout",
     "output_type": "stream",
     "text": [
      "/mnt/crypto-transaction-networks/unstructured_data has been unmounted.\n"
     ]
    }
   ],
   "source": [
    "mountPoint = f\"/mnt/{BUCKET_SOURCE}/unstructured_data\"\n",
    "dbutils.fs.unmount(mountPoint)\n",
    "if not any(mount.mountPoint == mountPoint for mount in dbutils.fs.mounts()):\n",
    "    dbutils.fs.mount(f\"s3a://{access_key}:{encoded_secret_key}@{BUCKET_SOURCE}/unstructured_data\", mountPoint)"
   ]
  },
  {
   "cell_type": "markdown",
   "metadata": {
    "application/vnd.databricks.v1+cell": {
     "cellMetadata": {
      "byteLimit": 2048000,
      "rowLimit": 10000
     },
     "inputWidgets": {},
     "nuid": "6636b00c-4dc6-40ab-b803-491e99d8c8b9",
     "showTitle": false,
     "tableResultSettingsMap": {},
     "title": ""
    }
   },
   "source": [
    "### Mount Sink (Dev)"
   ]
  },
  {
   "cell_type": "code",
   "execution_count": 0,
   "metadata": {
    "application/vnd.databricks.v1+cell": {
     "cellMetadata": {
      "byteLimit": 2048000,
      "rowLimit": 10000
     },
     "inputWidgets": {},
     "nuid": "a82432be-0110-4304-9894-0caf3011444d",
     "showTitle": false,
     "tableResultSettingsMap": {},
     "title": ""
    }
   },
   "outputs": [
    {
     "output_type": "stream",
     "name": "stdout",
     "output_type": "stream",
     "text": [
      "/mnt/crypto-lakehouse-dev/bronze has been unmounted.\n"
     ]
    }
   ],
   "source": [
    "mountPoint = f\"/mnt/{BUCKET_SINK_DEV}/bronze\"\n",
    "dbutils.fs.unmount(mountPoint)\n",
    "if not any(mount.mountPoint == mountPoint for mount in dbutils.fs.mounts()):\n",
    "    dbutils.fs.mount(f\"s3a://{access_key}:{encoded_secret_key}@{BUCKET_SINK_DEV}/bronze\", mountPoint)"
   ]
  },
  {
   "cell_type": "code",
   "execution_count": 0,
   "metadata": {
    "application/vnd.databricks.v1+cell": {
     "cellMetadata": {
      "byteLimit": 2048000,
      "rowLimit": 10000
     },
     "inputWidgets": {},
     "nuid": "dfb112d8-41a1-416a-b11a-ea4f5a76750f",
     "showTitle": false,
     "tableResultSettingsMap": {},
     "title": ""
    }
   },
   "outputs": [
    {
     "output_type": "stream",
     "name": "stdout",
     "output_type": "stream",
     "text": [
      "/mnt/crypto-lakehouse-dev/silver has been unmounted.\n"
     ]
    }
   ],
   "source": [
    "mountPoint = f\"/mnt/{BUCKET_SINK_DEV}/silver\"\n",
    "dbutils.fs.unmount(mountPoint)\n",
    "if not any(mount.mountPoint == mountPoint for mount in dbutils.fs.mounts()):\n",
    "    dbutils.fs.mount(f\"s3a://{access_key}:{encoded_secret_key}@{BUCKET_SINK_DEV}/silver\", mountPoint)"
   ]
  },
  {
   "cell_type": "code",
   "execution_count": 0,
   "metadata": {
    "application/vnd.databricks.v1+cell": {
     "cellMetadata": {
      "byteLimit": 2048000,
      "rowLimit": 10000
     },
     "inputWidgets": {},
     "nuid": "8bebe223-e92c-4d0f-af32-d08b7e55acdc",
     "showTitle": false,
     "tableResultSettingsMap": {},
     "title": ""
    }
   },
   "outputs": [
    {
     "output_type": "stream",
     "name": "stdout",
     "output_type": "stream",
     "text": [
      "/mnt/crypto-lakehouse-dev/gold has been unmounted.\n"
     ]
    }
   ],
   "source": [
    "mountPoint = f\"/mnt/{BUCKET_SINK_DEV}/gold\"\n",
    "dbutils.fs.unmount(mountPoint)\n",
    "if not any(mount.mountPoint == mountPoint for mount in dbutils.fs.mounts()):\n",
    "    dbutils.fs.mount(f\"s3a://{access_key}:{encoded_secret_key}@{BUCKET_SINK_DEV}/gold\", mountPoint)"
   ]
  },
  {
   "cell_type": "markdown",
   "metadata": {
    "application/vnd.databricks.v1+cell": {
     "cellMetadata": {
      "byteLimit": 2048000,
      "rowLimit": 10000
     },
     "inputWidgets": {},
     "nuid": "011d3b0c-1a5c-445e-b651-f017140019ed",
     "showTitle": false,
     "tableResultSettingsMap": {},
     "title": ""
    }
   },
   "source": [
    "### Mount Sink (Prod)"
   ]
  },
  {
   "cell_type": "code",
   "execution_count": 0,
   "metadata": {
    "application/vnd.databricks.v1+cell": {
     "cellMetadata": {
      "byteLimit": 2048000,
      "rowLimit": 10000
     },
     "inputWidgets": {},
     "nuid": "9601a4de-4068-476a-968d-f9d862e9128f",
     "showTitle": false,
     "tableResultSettingsMap": {},
     "title": ""
    }
   },
   "outputs": [
    {
     "output_type": "stream",
     "name": "stdout",
     "output_type": "stream",
     "text": [
      "/mnt/crypto-lakehouse-prod/bronze has been unmounted.\n"
     ]
    }
   ],
   "source": [
    "mountPoint = f\"/mnt/{BUCKET_SINK}/bronze\"\n",
    "dbutils.fs.unmount(mountPoint)\n",
    "if not any(mount.mountPoint == mountPoint for mount in dbutils.fs.mounts()):\n",
    "    dbutils.fs.mount(f\"s3a://{access_key}:{encoded_secret_key}@{BUCKET_SINK}/bronze\", mountPoint)"
   ]
  },
  {
   "cell_type": "code",
   "execution_count": 0,
   "metadata": {
    "application/vnd.databricks.v1+cell": {
     "cellMetadata": {
      "byteLimit": 2048000,
      "rowLimit": 10000
     },
     "inputWidgets": {},
     "nuid": "6f518f7b-b1e1-4ba7-b967-a0466df585de",
     "showTitle": false,
     "tableResultSettingsMap": {},
     "title": ""
    }
   },
   "outputs": [
    {
     "output_type": "stream",
     "name": "stdout",
     "output_type": "stream",
     "text": [
      "/mnt/crypto-lakehouse-prod/silver has been unmounted.\n"
     ]
    }
   ],
   "source": [
    "mountPoint = f\"/mnt/{BUCKET_SINK}/silver\"\n",
    "dbutils.fs.unmount(mountPoint)\n",
    "if not any(mount.mountPoint == mountPoint for mount in dbutils.fs.mounts()):\n",
    "    dbutils.fs.mount(f\"s3a://{access_key}:{encoded_secret_key}@{BUCKET_SINK}/silver\", mountPoint)"
   ]
  },
  {
   "cell_type": "code",
   "execution_count": 0,
   "metadata": {
    "application/vnd.databricks.v1+cell": {
     "cellMetadata": {
      "byteLimit": 2048000,
      "rowLimit": 10000
     },
     "inputWidgets": {},
     "nuid": "d253da1f-0296-4e3c-81ca-1720d57f07ec",
     "showTitle": false,
     "tableResultSettingsMap": {},
     "title": ""
    }
   },
   "outputs": [
    {
     "output_type": "stream",
     "name": "stdout",
     "output_type": "stream",
     "text": [
      "/mnt/crypto-lakehouse-prod/gold has been unmounted.\n"
     ]
    }
   ],
   "source": [
    "mountPoint = f\"/mnt/{BUCKET_SINK}/gold\"\n",
    "dbutils.fs.unmount(mountPoint)\n",
    "if not any(mount.mountPoint == mountPoint for mount in dbutils.fs.mounts()):\n",
    "    dbutils.fs.mount(f\"s3a://{access_key}:{encoded_secret_key}@{BUCKET_SINK}/silver\", mountPoint)"
   ]
  },
  {
   "cell_type": "markdown",
   "metadata": {
    "application/vnd.databricks.v1+cell": {
     "cellMetadata": {
      "byteLimit": 2048000,
      "rowLimit": 10000
     },
     "inputWidgets": {},
     "nuid": "eee83881-708c-46d1-99c8-2568b5d3375a",
     "showTitle": false,
     "tableResultSettingsMap": {},
     "title": ""
    }
   },
   "source": [
    "###Test"
   ]
  },
  {
   "cell_type": "code",
   "execution_count": 0,
   "metadata": {
    "application/vnd.databricks.v1+cell": {
     "cellMetadata": {
      "byteLimit": 2048000,
      "rowLimit": 10000
     },
     "inputWidgets": {},
     "nuid": "df926991-34c3-4ddb-8e6c-be700ceecde0",
     "showTitle": false,
     "tableResultSettingsMap": {},
     "title": ""
    }
   },
   "outputs": [
    {
     "output_type": "display_data",
     "data": {
      "text/html": [
       "<style scoped>\n",
       "  .table-result-container {\n",
       "    max-height: 300px;\n",
       "    overflow: auto;\n",
       "  }\n",
       "  table, th, td {\n",
       "    border: 1px solid black;\n",
       "    border-collapse: collapse;\n",
       "  }\n",
       "  th, td {\n",
       "    padding: 5px;\n",
       "  }\n",
       "  th {\n",
       "    text-align: left;\n",
       "  }\n",
       "</style><div class='table-result-container'><table class='table-result'><thead style='background-color: white'><tr><th>mountPoint</th><th>source</th><th>encryptionType</th></tr></thead><tbody><tr><td>/databricks-datasets</td><td>databricks-datasets</td><td></td></tr><tr><td>/mnt/crypto-lakehouse-dev/silver</td><td>s3a://crypto-lakehouse-dev/silver</td><td></td></tr><tr><td>/mnt/devdeltaplayground/silver</td><td>abfss://silver@devdeltaplayground.dfs.core.windows.net/</td><td></td></tr><tr><td>/Volumes</td><td>UnityCatalogVolumes</td><td></td></tr><tr><td>/mnt/sourceblobplayground/raw</td><td>wasbs://raw@sourceblobplayground.blob.core.windows.net</td><td></td></tr><tr><td>/databricks/mlflow-tracking</td><td>databricks/mlflow-tracking</td><td>sse-s3</td></tr><tr><td>/databricks-results</td><td>databricks-results</td><td>sse-s3</td></tr><tr><td>/databricks/mlflow-registry</td><td>databricks/mlflow-registry</td><td>sse-s3</td></tr><tr><td>/mnt/crypto-lakehouse-prod/gold</td><td>s3a://crypto-lakehouse-prod/silver</td><td></td></tr><tr><td>/mnt/crypto-lakehouse-dev/bronze</td><td>s3a://crypto-lakehouse-dev/bronze</td><td></td></tr><tr><td>/mnt/devdeltaplayground/bronze</td><td>abfss://bronze@devdeltaplayground.dfs.core.windows.net/</td><td></td></tr><tr><td>/mnt/crypto-lakehouse-prod/silver</td><td>s3a://crypto-lakehouse-prod/silver</td><td></td></tr><tr><td>/mnt/crypto-lakehouse-prod/bronze</td><td>s3a://crypto-lakehouse-prod/bronze</td><td></td></tr><tr><td>/mnt/devdeltaplayground/gold</td><td>abfss://gold@devdeltaplayground.dfs.core.windows.net/</td><td></td></tr><tr><td>/Volume</td><td>DbfsReserved</td><td></td></tr><tr><td>/mnt/crypto-lakehouse-dev/gold</td><td>s3a://crypto-lakehouse-dev/gold</td><td></td></tr><tr><td>/mnt/sourceadlsplayground/raw</td><td>abfss://raw@sourceadlsplayground.dfs.core.windows.net/</td><td></td></tr><tr><td>/volumes</td><td>DbfsReserved</td><td></td></tr><tr><td>/mnt/crypto-transaction-networks/unstructured_data</td><td>s3a://crypto-transaction-networks/unstructured_data</td><td></td></tr><tr><td>/</td><td>DatabricksRoot</td><td>sse-s3</td></tr><tr><td>/volume</td><td>DbfsReserved</td><td></td></tr></tbody></table></div>"
      ]
     },
     "metadata": {
      "application/vnd.databricks.v1+output": {
       "addedWidgets": {},
       "aggData": [],
       "aggError": "",
       "aggOverflow": false,
       "aggSchema": [],
       "aggSeriesLimitReached": false,
       "aggType": "",
       "arguments": {},
       "columnCustomDisplayInfos": {},
       "data": [
        [
         "/databricks-datasets",
         "databricks-datasets",
         ""
        ],
        [
         "/mnt/crypto-lakehouse-dev/silver",
         "s3a://crypto-lakehouse-dev/silver",
         ""
        ],
        [
         "/mnt/devdeltaplayground/silver",
         "abfss://silver@devdeltaplayground.dfs.core.windows.net/",
         ""
        ],
        [
         "/Volumes",
         "UnityCatalogVolumes",
         ""
        ],
        [
         "/mnt/sourceblobplayground/raw",
         "wasbs://raw@sourceblobplayground.blob.core.windows.net",
         ""
        ],
        [
         "/databricks/mlflow-tracking",
         "databricks/mlflow-tracking",
         "sse-s3"
        ],
        [
         "/databricks-results",
         "databricks-results",
         "sse-s3"
        ],
        [
         "/databricks/mlflow-registry",
         "databricks/mlflow-registry",
         "sse-s3"
        ],
        [
         "/mnt/crypto-lakehouse-prod/gold",
         "s3a://crypto-lakehouse-prod/silver",
         ""
        ],
        [
         "/mnt/crypto-lakehouse-dev/bronze",
         "s3a://crypto-lakehouse-dev/bronze",
         ""
        ],
        [
         "/mnt/devdeltaplayground/bronze",
         "abfss://bronze@devdeltaplayground.dfs.core.windows.net/",
         ""
        ],
        [
         "/mnt/crypto-lakehouse-prod/silver",
         "s3a://crypto-lakehouse-prod/silver",
         ""
        ],
        [
         "/mnt/crypto-lakehouse-prod/bronze",
         "s3a://crypto-lakehouse-prod/bronze",
         ""
        ],
        [
         "/mnt/devdeltaplayground/gold",
         "abfss://gold@devdeltaplayground.dfs.core.windows.net/",
         ""
        ],
        [
         "/Volume",
         "DbfsReserved",
         ""
        ],
        [
         "/mnt/crypto-lakehouse-dev/gold",
         "s3a://crypto-lakehouse-dev/gold",
         ""
        ],
        [
         "/mnt/sourceadlsplayground/raw",
         "abfss://raw@sourceadlsplayground.dfs.core.windows.net/",
         ""
        ],
        [
         "/volumes",
         "DbfsReserved",
         ""
        ],
        [
         "/mnt/crypto-transaction-networks/unstructured_data",
         "s3a://crypto-transaction-networks/unstructured_data",
         ""
        ],
        [
         "/",
         "DatabricksRoot",
         "sse-s3"
        ],
        [
         "/volume",
         "DbfsReserved",
         ""
        ]
       ],
       "datasetInfos": [],
       "dbfsResultPath": null,
       "isJsonSchema": true,
       "metadata": {},
       "overflow": false,
       "plotOptions": {
        "customPlotOptions": {},
        "displayType": "table",
        "pivotAggregation": null,
        "pivotColumns": null,
        "xColumns": null,
        "yColumns": null
       },
       "removedWidgets": [],
       "schema": [
        {
         "metadata": "{}",
         "name": "mountPoint",
         "type": "\"string\""
        },
        {
         "metadata": "{}",
         "name": "source",
         "type": "\"string\""
        },
        {
         "metadata": "{}",
         "name": "encryptionType",
         "type": "\"string\""
        }
       ],
       "type": "table"
      }
     },
     "output_type": "display_data"
    }
   ],
   "source": [
    "display(dbutils.fs.mounts())"
   ]
  }
 ],
 "metadata": {
  "application/vnd.databricks.v1+notebook": {
   "dashboards": [],
   "environmentMetadata": {
    "base_environment": "",
    "client": "1"
   },
   "language": "python",
   "notebookMetadata": {
    "pythonIndentUnit": 4
   },
   "notebookName": "mount_points",
   "widgets": {}
  },
  "language_info": {
   "name": "python"
  }
 },
 "nbformat": 4,
 "nbformat_minor": 0
}
