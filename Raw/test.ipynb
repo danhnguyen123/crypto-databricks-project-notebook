{
 "cells": [
  {
   "cell_type": "code",
   "execution_count": 0,
   "metadata": {
    "application/vnd.databricks.v1+cell": {
     "cellMetadata": {
      "byteLimit": 2048000,
      "rowLimit": 10000
     },
     "inputWidgets": {},
     "nuid": "c24126d3-0cc8-41e8-bd60-90a6265f73ea",
     "showTitle": false,
     "tableResultSettingsMap": {},
     "title": ""
    }
   },
   "outputs": [],
   "source": [
    "dbutils.widgets.text(\"p_txn_date\", \"2023-10-28\")\n",
    "v_txn_date = dbutils.widgets.get(\"p_txn_date\")"
   ]
  },
  {
   "cell_type": "code",
   "execution_count": 0,
   "metadata": {
    "application/vnd.databricks.v1+cell": {
     "cellMetadata": {
      "byteLimit": 2048000,
      "rowLimit": 10000
     },
     "inputWidgets": {},
     "nuid": "9819ea6a-f60a-482a-a3b3-295b5df44b2e",
     "showTitle": false,
     "tableResultSettingsMap": {},
     "title": ""
    }
   },
   "outputs": [],
   "source": [
    "from pyspark.sql.types import StructType, StructField, IntegerType, StringType, LongType\n",
    "import pyspark.sql.utils"
   ]
  },
  {
   "cell_type": "code",
   "execution_count": 0,
   "metadata": {
    "application/vnd.databricks.v1+cell": {
     "cellMetadata": {
      "byteLimit": 2048000,
      "rowLimit": 10000
     },
     "inputWidgets": {},
     "nuid": "a57cd0b1-4a49-4220-8527-3014eca92c8c",
     "showTitle": false,
     "tableResultSettingsMap": {},
     "title": ""
    }
   },
   "outputs": [],
   "source": [
    "%run ../Utilities/configuration"
   ]
  },
  {
   "cell_type": "code",
   "execution_count": 0,
   "metadata": {
    "application/vnd.databricks.v1+cell": {
     "cellMetadata": {
      "byteLimit": 2048000,
      "rowLimit": 10000
     },
     "inputWidgets": {},
     "nuid": "f2a4231a-b58e-4cb5-b420-9756b5a8159d",
     "showTitle": false,
     "tableResultSettingsMap": {},
     "title": ""
    }
   },
   "outputs": [],
   "source": [
    "%run ../Utilities/common_functions"
   ]
  },
  {
   "cell_type": "code",
   "execution_count": 0,
   "metadata": {
    "application/vnd.databricks.v1+cell": {
     "cellMetadata": {
      "byteLimit": 2048000,
      "rowLimit": 10000
     },
     "inputWidgets": {},
     "nuid": "b3f99acc-8056-4e13-af40-3ac207e1a479",
     "showTitle": false,
     "tableResultSettingsMap": {},
     "title": ""
    }
   },
   "outputs": [],
   "source": [
    "import logging\n",
    "logging.basicConfig()\n",
    "logger = logging.getLogger(__name__)\n",
    "logger.setLevel(logging.DEBUG)"
   ]
  },
  {
   "cell_type": "code",
   "execution_count": 0,
   "metadata": {
    "application/vnd.databricks.v1+cell": {
     "cellMetadata": {
      "byteLimit": 2048000,
      "rowLimit": 10000
     },
     "inputWidgets": {},
     "nuid": "25570bf8-436d-40e4-bac2-ab891979b2d2",
     "showTitle": false,
     "tableResultSettingsMap": {},
     "title": ""
    }
   },
   "outputs": [
    {
     "output_type": "stream",
     "name": "stderr",
     "output_type": "stream",
     "text": [
      "DEBUG:__main__:Reading transaction raw data from /mnt/crypto-transaction-networks/unstructured_data/*/txn_date=2023-10-28/*/*.json\n"
     ]
    }
   ],
   "source": [
    "try:\n",
    "    path = f\"{RAW_FOLDER_PATH}/*/txn_date={v_txn_date}/*/*.json\"\n",
    "    logger.debug(f\"Reading transaction raw data from {path}\")\n",
    "    df_input=spark.read.option(\"multiline\", \"true\").json(path).cache()\n",
    "except pyspark.sql.utils.AnalysisException as ae:\n",
    "    logger.error(f\"Schema mismatch: {ae}\")\n",
    "    raise ae\n",
    "except Exception as e:\n",
    "    logger.error(f\"An error occurred: {e}\")\n",
    "    raise e"
   ]
  },
  {
   "cell_type": "code",
   "execution_count": 0,
   "metadata": {
    "application/vnd.databricks.v1+cell": {
     "cellMetadata": {
      "byteLimit": 2048000,
      "rowLimit": 10000
     },
     "inputWidgets": {},
     "nuid": "92fbf34e-4a97-4c0d-85a0-9561e00a6f33",
     "showTitle": false,
     "tableResultSettingsMap": {},
     "title": ""
    }
   },
   "outputs": [],
   "source": [
    "df=f_add_input_file_name_loadtime(df_input)"
   ]
  },
  {
   "cell_type": "code",
   "execution_count": 0,
   "metadata": {
    "application/vnd.databricks.v1+cell": {
     "cellMetadata": {
      "byteLimit": 2048000,
      "rowLimit": 10000
     },
     "inputWidgets": {},
     "nuid": "3669a394-a90a-4798-a00a-7018694f9eef",
     "showTitle": false,
     "tableResultSettingsMap": {},
     "title": ""
    }
   },
   "outputs": [],
   "source": [
    "df.write.partitionBy(\"txn_date\").mode('overwrite').option(\"replaceWhere\",f\"txn_date=={v_txn_date}\").save(f'{BRONZE_FOLDER_PATH}/transaction')"
   ]
  },
  {
   "cell_type": "code",
   "execution_count": 0,
   "metadata": {
    "application/vnd.databricks.v1+cell": {
     "cellMetadata": {
      "byteLimit": 2048000,
      "rowLimit": 10000
     },
     "inputWidgets": {},
     "nuid": "134faf10-0ea9-4349-b6c6-2938aee21705",
     "showTitle": false,
     "tableResultSettingsMap": {},
     "title": ""
    }
   },
   "outputs": [
    {
     "output_type": "execute_result",
     "data": {
      "text/plain": [
       "DataFrame[customer_id: bigint, date: bigint, id: bigint, limit_execution: string, market_execution_json: struct<destination_amount:decimal(21,0),fees:array<struct<amount:bigint,token:string>>,hybrid:struct<DestinationAmount:decimal(21,0),DestinationCoin:string,Fees:array<struct<amount:bigint,token:string>>,IsPartiallyFilledAllowed:boolean,PoolIDs:string,ProtocolFees:array<struct<amount:bigint,token:string>>,SourceAmount:bigint,SourceCoin:string,SplitSwapResults:array<struct<DestinationAmount:decimal(20,0),DestinationCoin:string,Fees:array<struct<amount:bigint,token:string>>,PoolIDs:string,ProtocolFees:array<struct<amount:bigint,token:string>>,SourceAmount:bigint,SourceCoin:string,SwapRouteResults:array<struct<BridgeCoin:string,BridgeSwapStepResult1:string,BridgeSwapStepResult2:string,DestinationAmount:decimal(20,0),DestinationCoin:string,DirectSwapStepResult:struct<DestinationAmount:decimal(20,0),DestinationCoin:string,FeeAmount:bigint,OrderBookDestinationAmount:decimal(20,0),OrderBookPair:string,OrderBookProtocolFeeAmount:bigint,OrderBookSourceAmount:bigint,PoolDestinationAmount:bigint,PoolFeeAmount:bigint,PoolID:bigint,PoolProtocolFeeAmount:bigint,PoolSourceAmount:bigint,PoolZeroForOne:boolean,ProtocolFeeAmount:bigint,SourceAmount:bigint,SourceCoin:string,order_book_filled_order_ids:array<bigint>>,Fees:array<struct<amount:bigint,token:string>>,IsDirect:boolean,PoolIDs:string,ProtocolFees:array<struct<amount:bigint,token:string>>,SourceAmount:bigint,SourceCoin:string,order_book_filled_order_ids:array<bigint>>>,order_book_filled_order_ids:array<bigint>>>,order_book_filled_order_ids:array<bigint>>,order_book:struct<destination_amount:bigint,filled_order_ids:array<bigint>,min_price:double,protocol_fees:array<struct<amount:bigint,token:string>>,source_amount:bigint>,pool:struct<destination_amount:bigint,protocol_fees:array<struct<amount:bigint,token:string>>,source_amount:bigint,split_swaps:array<struct<destination_amount:bigint,protocol_fees:array<struct<amount:bigint,token:string>>,source_amount:bigint,swap_route:array<struct<amount0:bigint,amount1:bigint,pool_id:bigint,zero_for_one:boolean>>>>>,protocol_fees:array<struct<amount:bigint,token:string>>,source_amount:bigint>]"
      ]
     },
     "execution_count": 170,
     "metadata": {},
     "output_type": "execute_result"
    }
   ],
   "source": [
    "df_input.unpersist()"
   ]
  },
  {
   "cell_type": "code",
   "execution_count": 0,
   "metadata": {
    "application/vnd.databricks.v1+cell": {
     "cellMetadata": {},
     "inputWidgets": {},
     "nuid": "4747247c-7b80-4af8-86d2-453595856fa0",
     "showTitle": false,
     "tableResultSettingsMap": {},
     "title": ""
    }
   },
   "outputs": [],
   "source": [
    "dbutils.notebook.exit(\"Success\")"
   ]
  },
  {
   "cell_type": "code",
   "execution_count": 0,
   "metadata": {
    "application/vnd.databricks.v1+cell": {
     "cellMetadata": {
      "byteLimit": 2048000,
      "rowLimit": 10000
     },
     "inputWidgets": {},
     "nuid": "5fe17c69-92f8-437c-9695-cefe1ef0749b",
     "showTitle": false,
     "tableResultSettingsMap": {},
     "title": ""
    }
   },
   "outputs": [
    {
     "output_type": "execute_result",
     "data": {
      "text/plain": [
       "'/Users/nguyenthedanh1234@gmail.com/crypto-databricks-project/Raw/Untitled Notebook 2024-11-06 05_50_47'"
      ]
     },
     "execution_count": 15,
     "metadata": {},
     "output_type": "execute_result"
    }
   ],
   "source": [
    "dbutils.notebook().getContext().notebookPath().get()"
   ]
  },
  {
   "cell_type": "code",
   "execution_count": 0,
   "metadata": {
    "application/vnd.databricks.v1+cell": {
     "cellMetadata": {
      "byteLimit": 2048000,
      "rowLimit": 10000
     },
     "inputWidgets": {},
     "nuid": "f1b54c81-8d40-410a-a5f2-4524b0b62aac",
     "showTitle": false,
     "tableResultSettingsMap": {},
     "title": ""
    }
   },
   "outputs": [
    {
     "output_type": "display_data",
     "data": {
      "text/plain": [
       "\u001B[0;31m---------------------------------------------------------------------------\u001B[0m\n",
       "\u001B[0;31mAttributeError\u001B[0m                            Traceback (most recent call last)\n",
       "File \u001B[0;32m<command-4199613406261603>, line 1\u001B[0m\n",
       "\u001B[0;32m----> 1\u001B[0m dbutils\u001B[38;5;241m.\u001B[39mnotebook\u001B[38;5;241m.\u001B[39mgetContext()\n",
       "\n",
       "\u001B[0;31mAttributeError\u001B[0m: 'JavaMember' object has no attribute 'getContext'"
      ]
     },
     "metadata": {
      "application/vnd.databricks.v1+output": {
       "addedWidgets": {},
       "arguments": {},
       "datasetInfos": [],
       "jupyterProps": {
        "ename": "AttributeError",
        "evalue": "'JavaMember' object has no attribute 'getContext'"
       },
       "metadata": {
        "errorSummary": "<span class='ansi-red-fg'>AttributeError</span>: 'JavaMember' object has no attribute 'getContext'"
       },
       "removedWidgets": [],
       "sqlProps": null,
       "stackFrames": [
        "\u001B[0;31m---------------------------------------------------------------------------\u001B[0m",
        "\u001B[0;31mAttributeError\u001B[0m                            Traceback (most recent call last)",
        "File \u001B[0;32m<command-4199613406261603>, line 1\u001B[0m\n\u001B[0;32m----> 1\u001B[0m dbutils\u001B[38;5;241m.\u001B[39mnotebook\u001B[38;5;241m.\u001B[39mgetContext()\n",
        "\u001B[0;31mAttributeError\u001B[0m: 'JavaMember' object has no attribute 'getContext'"
       ],
       "type": "baseError"
      }
     },
     "output_type": "display_data"
    }
   ],
   "source": [
    "dbutils.notebook.getContext()"
   ]
  },
  {
   "cell_type": "code",
   "execution_count": 0,
   "metadata": {
    "application/vnd.databricks.v1+cell": {
     "cellMetadata": {
      "byteLimit": 2048000,
      "rowLimit": 10000
     },
     "inputWidgets": {},
     "nuid": "171c54a9-497d-4b9f-b54a-3b6ac504b3e5",
     "showTitle": false,
     "tableResultSettingsMap": {},
     "title": ""
    }
   },
   "outputs": [],
   "source": [
    "import json \n",
    "context = json.loads(dbutils.notebook.entry_point.getDbutils().notebook().getContext().toJson())"
   ]
  },
  {
   "cell_type": "code",
   "execution_count": 0,
   "metadata": {
    "application/vnd.databricks.v1+cell": {
     "cellMetadata": {
      "byteLimit": 2048000,
      "rowLimit": 10000
     },
     "inputWidgets": {},
     "nuid": "8d1067e9-d2dc-425d-a29a-964d1b21af84",
     "showTitle": false,
     "tableResultSettingsMap": {},
     "title": ""
    }
   },
   "outputs": [
    {
     "output_type": "execute_result",
     "data": {
      "text/plain": [
       "{'rootRunId': None,\n",
       " 'currentRunId': None,\n",
       " 'jobGroup': '1730914439166_6834997378752909546_aa88fd8d128d45e6a350304491b7224e',\n",
       " 'tags': {'opId': 'Driver-55ccabdca44c0837',\n",
       "  'shardName': 'oregon-prod',\n",
       "  'opTarget': 'executeCommandInRepl',\n",
       "  'notebookEditorNodeType': 'shell',\n",
       "  'clusterMemory': '16384',\n",
       "  'serverBackendName': 'com.databricks.backend.daemon.driver.DriverCorral',\n",
       "  'notebookId': '3980399407905689',\n",
       "  'executedCommandLanguage': 'python',\n",
       "  'projectName': 'driver',\n",
       "  'tier': 'tier-multitenant',\n",
       "  'sqlWarehouseAssetTypeOverride': 'notebook',\n",
       "  'eventWindowTime': '4330632.399999857',\n",
       "  'httpTarget': '/notebook/3980399407905689/command/4199613406261660',\n",
       "  'commandRunId': '18207f9b-0db6-4cf6-a913-2cf06653910e',\n",
       "  'buildHash': '',\n",
       "  'workspaceRoutingTarget': 'null',\n",
       "  'browserHash': '#command/4199613406261660',\n",
       "  'browserPathName': '/editor/notebooks/3980399407905689',\n",
       "  'notebookEditorMode': 'notebook',\n",
       "  'notebookLanguage': 'python',\n",
       "  'sqlWarehouseQueryUuid': '',\n",
       "  'workspaceRoutingBucket': 'null',\n",
       "  'parentServerEventId': 'CgwI/tOuuQYQkpKQ4AEYGzoQUt0NDUBjTKOHrwGd8bD9cw==',\n",
       "  'sparkVersion': '15.4.x-scala2.12',\n",
       "  'executionContextId': '6619972371857444405',\n",
       "  'hostName': 'cons-webapp-34',\n",
       "  'httpMethod': 'POST',\n",
       "  'browserIdleTime': '23.100000143051147',\n",
       "  'jettyRpcJettyVersion': '9',\n",
       "  'browserLanguage': 'vi-VN',\n",
       "  'browserTabId': 'dbd66d38-c4a4-4ae8-b692-5306babaebe6',\n",
       "  'sourceIpAddress': '27.70.217.171',\n",
       "  'accountId': '1f35cfc8-9a6f-4f64-a6e1-bda88c4a6d1e',\n",
       "  'loadedUiVersions': 'Map(monolith -> b619408ce72b055498b5e8b236260dbd4b2ef102)',\n",
       "  'browserUserAgent': 'Mozilla/5.0 (Windows NT 10.0; Win64; x64) AppleWebKit/537.36 (KHTML, like Gecko) Chrome/130.0.0.0 Safari/537.36',\n",
       "  'orgId': '2167993034049761',\n",
       "  'userAgent': 'Mozilla/5.0 (Windows NT 10.0; Win64; x64) AppleWebKit/537.36 (KHTML, like Gecko) Chrome/130.0.0.0 Safari/537.36',\n",
       "  'pageId': 'webapp.notebook',\n",
       "  'clusterId': '1030-144804-tyhccfj7',\n",
       "  'workloadClass': 'commandRun',\n",
       "  'serverEventId': 'CgwI/tOuuQYQoPmr4wEYswE6EEqsDPrDXEL4pL9wkYc/Cl8=',\n",
       "  'rootOpId': 'HttpServer-50aa51a8c689ac2c',\n",
       "  'sparkJobGroupId': '1730914439166_6834997378752909546_aa88fd8d128d45e6a350304491b7224e',\n",
       "  'pageViewId': '1730913085500d84dsjxa',\n",
       "  'replId': '1730914439166',\n",
       "  'sessionId': 'auth-668fb67c86-p55px-tl7cytukisku25oq4dimm20x',\n",
       "  'clusterCreator': 'nguyenthedanh1234@gmail.com',\n",
       "  'originatedFromEnvoy': 'true',\n",
       "  'numExecutionCommands': '1',\n",
       "  'clientBranchName': 'DEPRECATED',\n",
       "  'workloadId': '18207f9b-0db6-4cf6-a913-2cf06653910e',\n",
       "  'clientTimestamp': '1730914814531',\n",
       "  'clusterType': 'spot',\n",
       "  'requestId': '2e7ceb5d-0ae2-4c1e-86a5-53f33d9b0674',\n",
       "  'browserHasFocus': 'true',\n",
       "  'commandLanguage': 'python',\n",
       "  'commandId': '6834997378752909546',\n",
       "  'queryParameters': '?o=2167993034049761',\n",
       "  'userId': '937165309313358',\n",
       "  'browserIsHidden': 'false',\n",
       "  'clientLocale': 'en',\n",
       "  'branchName': 'webapp_2024-10-29_18.53.05Z_webapp-hotfix-20241028_473ff483_1944810238',\n",
       "  'opType': 'Driver',\n",
       "  'sourcePortNumber': '0',\n",
       "  'executionId': 'aa88fd8d128d45e6a350304491b7224e',\n",
       "  'user': 'nguyenthedanh1234@gmail.com',\n",
       "  'browserHostName': 'dbc-b211122e-383d.cloud.databricks.com',\n",
       "  'parentOpId': 'Driver-55ccabdca44c0836',\n",
       "  'jettyRpcType': 'InternalDriverBackendMessages$DriverBackendRequest'},\n",
       " 'extraContext': {'mlflowGitRelativePath': 'Raw/Untitled Notebook 2024-11-06 05_50_47',\n",
       "  'allowStdin': 'true',\n",
       "  'non_uc_api_token': '[REDACTED]',\n",
       "  'commandResultJsonMaxBytes': '20971520',\n",
       "  'dbrPlatformChannel': 'CHANNEL_NAME_CURRENT',\n",
       "  'enableDeltaLiveTablesAnalysis': 'true',\n",
       "  'mlflowGitStatus': 'unknown',\n",
       "  'mlflowGitReference': 'dev',\n",
       "  'mlflowGitUrl': 'https://github.com/danhnguyen123/crypto-databricks-project.git',\n",
       "  'notebook_path': '/Users/nguyenthedanh1234@gmail.com/crypto-databricks-project/Raw/Untitled Notebook 2024-11-06 05_50_47',\n",
       "  'notebook_id': '3980399407905689',\n",
       "  'thresholdForStoringInDbfs': '10000',\n",
       "  'mlflowGitCommit': '5201bb499db0e9af57309a0b8a441dac9de3b7ed',\n",
       "  'enableStoringResultsInDbfs': 'true',\n",
       "  'mlflowGitReferenceType': 'branch',\n",
       "  'api_url': 'https://oregon.cloud.databricks.com',\n",
       "  'objectType': 'NOTEBOOK',\n",
       "  'aclPathOfAclRoot': '/workspace/1833233622194720/1833233622194722/2832525160215756/3980399407905680/3980399407905689',\n",
       "  'mlflowGitProvider': 'gitHub',\n",
       "  'api_token': '[REDACTED]'},\n",
       " 'credentialKeys': ['adls_aad_token',\n",
       "  'adls_gen2_aad_token',\n",
       "  'synapse_aad_token']}"
      ]
     },
     "execution_count": 22,
     "metadata": {},
     "output_type": "execute_result"
    }
   ],
   "source": [
    "context"
   ]
  },
  {
   "cell_type": "code",
   "execution_count": 0,
   "metadata": {
    "application/vnd.databricks.v1+cell": {
     "cellMetadata": {
      "byteLimit": 2048000,
      "rowLimit": 10000
     },
     "inputWidgets": {},
     "nuid": "db860904-36f6-4d60-a38a-6535665948a6",
     "showTitle": false,
     "tableResultSettingsMap": {},
     "title": ""
    }
   },
   "outputs": [
    {
     "output_type": "stream",
     "name": "stdout",
     "output_type": "stream",
     "text": [
      "Error Message: An example error\n"
     ]
    }
   ],
   "source": [
    "import traceback\n",
    "import sys\n",
    "\n",
    "try:\n",
    "    # Replace with your code\n",
    "    raise ValueError(\"An example error\")  # This is just to trigger an error for illustration\n",
    "\n",
    "except Exception as e:\n",
    "    # Capture error details\n",
    "    error_message = str(e)\n",
    "    # notebook_path = dbutils.notebook().getContext().notebookPath().get()\n",
    "    # notebook_name = dbutils.notebook().getContext().notebookId().get()\n",
    "    \n",
    "    # # Print notebook information\n",
    "    # print(\"Notebook Path:\", notebook_path)\n",
    "    # print(\"Notebook ID:\", notebook_name)\n",
    "    \n",
    "    # Print the error message\n",
    "    print(\"Error Message:\", error_message)\n",
    "    \n",
    "    # Print the full traceback\n",
    "    error_message = error_message + \"\\n\" + traceback.format_exc()\n",
    "    f_push_alert_message(error_message, context)\n"
   ]
  },
  {
   "cell_type": "code",
   "execution_count": 0,
   "metadata": {
    "application/vnd.databricks.v1+cell": {
     "cellMetadata": {
      "byteLimit": 2048000,
      "rowLimit": 10000
     },
     "inputWidgets": {},
     "nuid": "902cb5f4-c9be-4790-b39e-79cc5c3d8f2a",
     "showTitle": false,
     "tableResultSettingsMap": {},
     "title": ""
    }
   },
   "outputs": [
    {
     "output_type": "execute_result",
     "data": {
      "text/plain": [
       "'/Users/nguyenthedanh1234@gmail.com/crypto-databricks-project/Raw/Untitled Notebook 2024-11-06 05_50_47'"
      ]
     },
     "execution_count": 16,
     "metadata": {},
     "output_type": "execute_result"
    }
   ],
   "source": [
    "dbutils.notebook().getContext().notebookPath().get()"
   ]
  },
  {
   "cell_type": "code",
   "execution_count": 0,
   "metadata": {
    "application/vnd.databricks.v1+cell": {
     "cellMetadata": {
      "byteLimit": 2048000,
      "rowLimit": 10000
     },
     "inputWidgets": {},
     "nuid": "8168250a-1e71-4f12-94ce-41f86982d296",
     "showTitle": false,
     "tableResultSettingsMap": {},
     "title": ""
    }
   },
   "outputs": [
    {
     "output_type": "execute_result",
     "data": {
      "text/plain": [
       "JavaObject id=o439"
      ]
     },
     "execution_count": 18,
     "metadata": {},
     "output_type": "execute_result"
    }
   ],
   "source": [
    "dbutils.notebook().getContext()"
   ]
  },
  {
   "cell_type": "code",
   "execution_count": 0,
   "metadata": {
    "application/vnd.databricks.v1+cell": {
     "cellMetadata": {
      "byteLimit": 2048000,
      "rowLimit": 10000
     },
     "inputWidgets": {},
     "nuid": "fb52da9b-1fb9-4ab3-8518-66490df33eb5",
     "showTitle": false,
     "tableResultSettingsMap": {},
     "title": ""
    }
   },
   "outputs": [
    {
     "output_type": "execute_result",
     "data": {
      "text/plain": [
       "{'rootRunId': None,\n",
       " 'currentRunId': None,\n",
       " 'jobGroup': '1730911263628_6614373013517547783_aa8cf3ad303740db891f8d10d0006b17',\n",
       " 'tags': {'opId': 'Driver-cd1d8b8be7352132',\n",
       "  'shardName': 'oregon-prod',\n",
       "  'opTarget': 'executeCommandInRepl',\n",
       "  'notebookEditorNodeType': 'shell',\n",
       "  'clusterMemory': '16384',\n",
       "  'serverBackendName': 'com.databricks.backend.daemon.driver.DriverCorral',\n",
       "  'notebookId': '3980399407905689',\n",
       "  'executedCommandLanguage': 'python',\n",
       "  'projectName': 'driver',\n",
       "  'tier': 'tier-multitenant',\n",
       "  'sqlWarehouseAssetTypeOverride': 'notebook',\n",
       "  'eventWindowTime': '7930828',\n",
       "  'httpTarget': '/notebook/3980399407905689/command/4199613406261614',\n",
       "  'commandRunId': 'c40b31da-a744-40fe-bbfe-53634eadd478',\n",
       "  'buildHash': '',\n",
       "  'workspaceRoutingTarget': 'null',\n",
       "  'browserHash': '#command/4199613406261614',\n",
       "  'browserPathName': '/editor/notebooks/3980399407905689',\n",
       "  'notebookEditorMode': 'notebook',\n",
       "  'notebookLanguage': 'python',\n",
       "  'sqlWarehouseQueryUuid': '',\n",
       "  'workspaceRoutingBucket': 'null',\n",
       "  'parentServerEventId': 'CgwIpcOuuQYQ9YyhjgMYGDoQ7nXNuWZERTu6DJwxghsCxg==',\n",
       "  'sparkVersion': '15.4.x-scala2.12',\n",
       "  'executionContextId': '296135062189747934',\n",
       "  'hostName': 'cons-webapp-34',\n",
       "  'httpMethod': 'POST',\n",
       "  'browserIdleTime': '533.7999999523163',\n",
       "  'jettyRpcJettyVersion': '9',\n",
       "  'browserLanguage': 'vi-VN',\n",
       "  'browserTabId': '53646330-ab7e-48a2-ba2c-35ff6329b2d2',\n",
       "  'sourceIpAddress': '117.3.214.250',\n",
       "  'accountId': '1f35cfc8-9a6f-4f64-a6e1-bda88c4a6d1e',\n",
       "  'loadedUiVersions': 'Map(monolith -> b619408ce72b055498b5e8b236260dbd4b2ef102)',\n",
       "  'browserUserAgent': 'Mozilla/5.0 (Windows NT 10.0; Win64; x64) AppleWebKit/537.36 (KHTML, like Gecko) Chrome/130.0.0.0 Safari/537.36',\n",
       "  'orgId': '2167993034049761',\n",
       "  'userAgent': 'Mozilla/5.0 (Windows NT 10.0; Win64; x64) AppleWebKit/537.36 (KHTML, like Gecko) Chrome/130.0.0.0 Safari/537.36',\n",
       "  'pageId': 'webapp.notebook',\n",
       "  'clusterId': '1030-144804-tyhccfj7',\n",
       "  'workloadClass': 'commandRun',\n",
       "  'serverEventId': 'CgwIpcOuuQYQspGykAMYygE6EIqGk23eh01TqfYKL7IzOwc=',\n",
       "  'rootOpId': 'HttpServer-50aa51a8c66c57ae',\n",
       "  'sparkJobGroupId': '1730911263628_6614373013517547783_aa8cf3ad303740db891f8d10d0006b17',\n",
       "  'pageViewId': '17309121149549dk3bfcr',\n",
       "  'replId': '1730911263628',\n",
       "  'sessionId': 'auth-668fb67c86-p55px-tl7cytukisku25oq4dimm20x',\n",
       "  'clusterCreator': 'nguyenthedanh1234@gmail.com',\n",
       "  'originatedFromEnvoy': 'true',\n",
       "  'numExecutionCommands': '1',\n",
       "  'clientBranchName': 'DEPRECATED',\n",
       "  'workloadId': 'c40b31da-a744-40fe-bbfe-53634eadd478',\n",
       "  'clientTimestamp': '1730912677804',\n",
       "  'clusterType': 'spot',\n",
       "  'requestId': '3b36228a-6019-4f27-ad22-cd89ba8b3922',\n",
       "  'browserHasFocus': 'true',\n",
       "  'commandLanguage': 'python',\n",
       "  'commandId': '6614373013517547783',\n",
       "  'queryParameters': '?o=2167993034049761',\n",
       "  'userId': '937165309313358',\n",
       "  'browserIsHidden': 'false',\n",
       "  'clientLocale': 'en',\n",
       "  'branchName': 'webapp_2024-10-29_18.53.05Z_webapp-hotfix-20241028_473ff483_1944810238',\n",
       "  'opType': 'Driver',\n",
       "  'sourcePortNumber': '0',\n",
       "  'executionId': 'aa8cf3ad303740db891f8d10d0006b17',\n",
       "  'user': 'nguyenthedanh1234@gmail.com',\n",
       "  'browserHostName': 'dbc-b211122e-383d.cloud.databricks.com',\n",
       "  'parentOpId': 'Driver-cd1d8b8be7352131',\n",
       "  'jettyRpcType': 'InternalDriverBackendMessages$DriverBackendRequest'},\n",
       " 'extraContext': {'mlflowGitRelativePath': 'Raw/Untitled Notebook 2024-11-06 05_50_47',\n",
       "  'allowStdin': 'true',\n",
       "  'non_uc_api_token': '[REDACTED]',\n",
       "  'commandResultJsonMaxBytes': '20971520',\n",
       "  'dbrPlatformChannel': 'CHANNEL_NAME_CURRENT',\n",
       "  'enableDeltaLiveTablesAnalysis': 'true',\n",
       "  'mlflowGitStatus': 'unknown',\n",
       "  'mlflowGitReference': 'dev',\n",
       "  'mlflowGitUrl': 'https://github.com/danhnguyen123/crypto-databricks-project.git',\n",
       "  'notebook_path': '/Users/nguyenthedanh1234@gmail.com/crypto-databricks-project/Raw/Untitled Notebook 2024-11-06 05_50_47',\n",
       "  'notebook_id': '3980399407905689',\n",
       "  'thresholdForStoringInDbfs': '10000',\n",
       "  'mlflowGitCommit': '5201bb499db0e9af57309a0b8a441dac9de3b7ed',\n",
       "  'enableStoringResultsInDbfs': 'true',\n",
       "  'mlflowGitReferenceType': 'branch',\n",
       "  'api_url': 'https://oregon.cloud.databricks.com',\n",
       "  'objectType': 'NOTEBOOK',\n",
       "  'aclPathOfAclRoot': '/workspace/1833233622194720/1833233622194722/2832525160215756/3980399407905680/3980399407905689',\n",
       "  'mlflowGitProvider': 'gitHub',\n",
       "  'api_token': '[REDACTED]'},\n",
       " 'credentialKeys': ['adls_aad_token',\n",
       "  'adls_gen2_aad_token',\n",
       "  'synapse_aad_token']}"
      ]
     },
     "execution_count": 21,
     "metadata": {},
     "output_type": "execute_result"
    }
   ],
   "source": [
    "import json\n",
    "json.loads(dbutils.notebook().getContext().toJson())"
   ]
  },
  {
   "cell_type": "code",
   "execution_count": 0,
   "metadata": {
    "application/vnd.databricks.v1+cell": {
     "cellMetadata": {
      "byteLimit": 2048000,
      "rowLimit": 10000
     },
     "inputWidgets": {},
     "nuid": "8b3c609c-4f87-4647-8034-cb6d8dfdedaf",
     "showTitle": false,
     "tableResultSettingsMap": {},
     "title": ""
    }
   },
   "outputs": [],
   "source": [
    "conext = f_get_notebook_context()"
   ]
  },
  {
   "cell_type": "code",
   "execution_count": 0,
   "metadata": {
    "application/vnd.databricks.v1+cell": {
     "cellMetadata": {
      "byteLimit": 2048000,
      "rowLimit": 10000
     },
     "inputWidgets": {},
     "nuid": "e51b0f64-297f-4c91-bf8b-9a79628ddaf2",
     "showTitle": false,
     "tableResultSettingsMap": {},
     "title": ""
    }
   },
   "outputs": [
    {
     "output_type": "display_data",
     "data": {
      "text/plain": [
       "{'rootRunId': None,\n",
       " 'currentRunId': None,\n",
       " 'jobGroup': '1730911263628_4824969335380368421_95bb8b71d26b4d16bbbac54fb4ea7c2a',\n",
       " 'tags': {'opId': 'Driver-cd1d8b8be7352dd0',\n",
       "  'shardName': 'oregon-prod',\n",
       "  'opTarget': 'executeCommandInRepl',\n",
       "  'notebookEditorNodeType': 'shell',\n",
       "  'clusterMemory': '16384',\n",
       "  'serverBackendName': 'com.databricks.backend.daemon.driver.DriverCorral',\n",
       "  'notebookId': '3980399407905689',\n",
       "  'executedCommandLanguage': 'python',\n",
       "  'projectName': 'driver',\n",
       "  'tier': 'tier-multitenant',\n",
       "  'sqlWarehouseAssetTypeOverride': 'notebook',\n",
       "  'eventWindowTime': '2705808.2999999523',\n",
       "  'httpTarget': '/notebook/3980399407905689/command/4199613406261615',\n",
       "  'commandRunId': 'e70625b8-2db8-4c7f-831d-0ab6723a17ca',\n",
       "  'buildHash': '',\n",
       "  'workspaceRoutingTarget': 'null',\n",
       "  'browserHash': '#command/4199613406261615',\n",
       "  'browserPathName': '/editor/notebooks/3980399407905689',\n",
       "  'notebookEditorMode': 'notebook',\n",
       "  'notebookLanguage': 'python',\n",
       "  'sqlWarehouseQueryUuid': '',\n",
       "  'workspaceRoutingBucket': 'null',\n",
       "  'parentServerEventId': 'CgwIpceuuQYQ9bWkngMYGjoQ7nXNuWZERTu6DJwxghsCxg==',\n",
       "  'sparkVersion': '15.4.x-scala2.12',\n",
       "  'executionContextId': '296135062189747934',\n",
       "  'hostName': 'cons-webapp-34',\n",
       "  'httpMethod': 'POST',\n",
       "  'browserIdleTime': '624.5',\n",
       "  'jettyRpcJettyVersion': '9',\n",
       "  'browserLanguage': 'vi-VN',\n",
       "  'browserTabId': 'dbd66d38-c4a4-4ae8-b692-5306babaebe6',\n",
       "  'sourceIpAddress': '117.3.214.250',\n",
       "  'accountId': '1f35cfc8-9a6f-4f64-a6e1-bda88c4a6d1e',\n",
       "  'loadedUiVersions': 'Map(monolith -> b619408ce72b055498b5e8b236260dbd4b2ef102)',\n",
       "  'browserUserAgent': 'Mozilla/5.0 (Windows NT 10.0; Win64; x64) AppleWebKit/537.36 (KHTML, like Gecko) Chrome/130.0.0.0 Safari/537.36',\n",
       "  'orgId': '2167993034049761',\n",
       "  'userAgent': 'Mozilla/5.0 (Windows NT 10.0; Win64; x64) AppleWebKit/537.36 (KHTML, like Gecko) Chrome/130.0.0.0 Safari/537.36',\n",
       "  'pageId': 'webapp.notebook',\n",
       "  'clusterId': '1030-144804-tyhccfj7',\n",
       "  'workloadClass': 'commandRun',\n",
       "  'serverEventId': 'CgwIpceuuQYQh5D4nwMYywE6EIqGk23eh01TqfYKL7IzOwc=',\n",
       "  'rootOpId': 'HttpServer-50aa51a8c672e9d5',\n",
       "  'sparkJobGroupId': '1730911263628_4824969335380368421_95bb8b71d26b4d16bbbac54fb4ea7c2a',\n",
       "  'pageViewId': '1730913085500d84dsjxa',\n",
       "  'replId': '1730911263628',\n",
       "  'sessionId': 'auth-668fb67c86-p55px-tl7cytukisku25oq4dimm20x',\n",
       "  'clusterCreator': 'nguyenthedanh1234@gmail.com',\n",
       "  'originatedFromEnvoy': 'true',\n",
       "  'numExecutionCommands': '1',\n",
       "  'clientBranchName': 'DEPRECATED',\n",
       "  'workloadId': 'e70625b8-2db8-4c7f-831d-0ab6723a17ca',\n",
       "  'clientTimestamp': '1730913189707',\n",
       "  'clusterType': 'spot',\n",
       "  'requestId': '1cb0b86a-bdfd-449c-8632-53ce5fc42f68',\n",
       "  'browserHasFocus': 'true',\n",
       "  'commandLanguage': 'python',\n",
       "  'commandId': '4824969335380368421',\n",
       "  'queryParameters': '?o=2167993034049761',\n",
       "  'userId': '937165309313358',\n",
       "  'browserIsHidden': 'false',\n",
       "  'clientLocale': 'en',\n",
       "  'branchName': 'webapp_2024-10-29_18.53.05Z_webapp-hotfix-20241028_473ff483_1944810238',\n",
       "  'opType': 'Driver',\n",
       "  'sourcePortNumber': '0',\n",
       "  'executionId': '95bb8b71d26b4d16bbbac54fb4ea7c2a',\n",
       "  'user': 'nguyenthedanh1234@gmail.com',\n",
       "  'browserHostName': 'dbc-b211122e-383d.cloud.databricks.com',\n",
       "  'parentOpId': 'Driver-cd1d8b8be7352dcf',\n",
       "  'jettyRpcType': 'InternalDriverBackendMessages$DriverBackendRequest'},\n",
       " 'extraContext': {'mlflowGitRelativePath': 'Raw/Untitled Notebook 2024-11-06 05_50_47',\n",
       "  'allowStdin': 'true',\n",
       "  'non_uc_api_token': '[REDACTED]',\n",
       "  'commandResultJsonMaxBytes': '20971520',\n",
       "  'dbrPlatformChannel': 'CHANNEL_NAME_CURRENT',\n",
       "  'enableDeltaLiveTablesAnalysis': 'true',\n",
       "  'mlflowGitStatus': 'unknown',\n",
       "  'mlflowGitReference': 'dev',\n",
       "  'mlflowGitUrl': 'https://github.com/danhnguyen123/crypto-databricks-project.git',\n",
       "  'notebook_path': '/Users/nguyenthedanh1234@gmail.com/crypto-databricks-project/Raw/Untitled Notebook 2024-11-06 05_50_47',\n",
       "  'notebook_id': '3980399407905689',\n",
       "  'thresholdForStoringInDbfs': '10000',\n",
       "  'mlflowGitCommit': '5201bb499db0e9af57309a0b8a441dac9de3b7ed',\n",
       "  'enableStoringResultsInDbfs': 'true',\n",
       "  'mlflowGitReferenceType': 'branch',\n",
       "  'api_url': 'https://oregon.cloud.databricks.com',\n",
       "  'objectType': 'NOTEBOOK',\n",
       "  'aclPathOfAclRoot': '/workspace/1833233622194720/1833233622194722/2832525160215756/3980399407905680/3980399407905689',\n",
       "  'mlflowGitProvider': 'gitHub',\n",
       "  'api_token': '[REDACTED]'},\n",
       " 'credentialKeys': ['adls_aad_token',\n",
       "  'adls_gen2_aad_token',\n",
       "  'synapse_aad_token']}"
      ]
     },
     "metadata": {},
     "output_type": "display_data"
    }
   ],
   "source": [
    "display(conext)"
   ]
  },
  {
   "cell_type": "code",
   "execution_count": 0,
   "metadata": {
    "application/vnd.databricks.v1+cell": {
     "cellMetadata": {
      "byteLimit": 2048000,
      "rowLimit": 10000
     },
     "inputWidgets": {},
     "nuid": "ed050550-80a2-4342-96b1-c766230cbb7c",
     "showTitle": false,
     "tableResultSettingsMap": {},
     "title": ""
    }
   },
   "outputs": [
    {
     "output_type": "execute_result",
     "data": {
      "text/plain": [
       "'/Users/nguyenthedanh1234@gmail.com/crypto-databricks-project/Raw/Untitled Notebook 2024-11-06 05_50_47'"
      ]
     },
     "execution_count": 39,
     "metadata": {},
     "output_type": "execute_result"
    }
   ],
   "source": [
    "conext[\"extraContext\"][\"notebook_path\"]"
   ]
  },
  {
   "cell_type": "code",
   "execution_count": 0,
   "metadata": {
    "application/vnd.databricks.v1+cell": {
     "cellMetadata": {
      "byteLimit": 2048000,
      "rowLimit": 10000
     },
     "inputWidgets": {},
     "nuid": "bd67f4b0-6683-4afe-966f-f80a4dc74e10",
     "showTitle": false,
     "tableResultSettingsMap": {},
     "title": ""
    }
   },
   "outputs": [
    {
     "output_type": "execute_result",
     "data": {
      "text/plain": [
       "'dbc-b211122e-383d.cloud.databricks.com'"
      ]
     },
     "execution_count": 41,
     "metadata": {},
     "output_type": "execute_result"
    }
   ],
   "source": [
    "conext[\"tags\"][\"browserHostName\"]"
   ]
  },
  {
   "cell_type": "code",
   "execution_count": 0,
   "metadata": {
    "application/vnd.databricks.v1+cell": {
     "cellMetadata": {
      "byteLimit": 2048000,
      "rowLimit": 10000
     },
     "inputWidgets": {},
     "nuid": "1325688f-5161-4d9a-a11e-0dda061be120",
     "showTitle": false,
     "tableResultSettingsMap": {},
     "title": ""
    }
   },
   "outputs": [
    {
     "output_type": "execute_result",
     "data": {
      "text/plain": [
       "'/editor/notebooks/3980399407905689'"
      ]
     },
     "execution_count": 42,
     "metadata": {},
     "output_type": "execute_result"
    }
   ],
   "source": [
    "conext[\"tags\"][\"browserPathName\"]"
   ]
  },
  {
   "cell_type": "code",
   "execution_count": 0,
   "metadata": {
    "application/vnd.databricks.v1+cell": {
     "cellMetadata": {
      "byteLimit": 2048000,
      "rowLimit": 10000
     },
     "inputWidgets": {},
     "nuid": "0c1f88da-a8b1-41c8-bdd0-b8b984f23dae",
     "showTitle": false,
     "tableResultSettingsMap": {},
     "title": ""
    }
   },
   "outputs": [
    {
     "output_type": "execute_result",
     "data": {
      "text/plain": [
       "{'rootRunId': None,\n",
       " 'currentRunId': None,\n",
       " 'jobGroup': '1730943783462_6533653981252332612_d10dc8e54dc94e5e8369edf30cf47c13',\n",
       " 'tags': {'opId': 'Driver-9de407889856156e',\n",
       "  'shardName': 'oregon-prod',\n",
       "  'opTarget': 'executeCommandInRepl',\n",
       "  'notebookEditorNodeType': 'shell',\n",
       "  'clusterMemory': '16384',\n",
       "  'serverBackendName': 'com.databricks.backend.daemon.driver.DriverCorral',\n",
       "  'notebookId': '3980399407905689',\n",
       "  'executedCommandLanguage': 'python',\n",
       "  'projectName': 'driver',\n",
       "  'tier': 'tier-multitenant',\n",
       "  'sqlWarehouseAssetTypeOverride': 'notebook',\n",
       "  'eventWindowTime': '2119087',\n",
       "  'httpTarget': '/notebook/3980399407905689/command/3711103162100253',\n",
       "  'commandRunId': '412f5fe9-c692-466c-8fda-6627e58bb933',\n",
       "  'buildHash': '',\n",
       "  'workspaceRoutingTarget': 'null',\n",
       "  'browserHash': '',\n",
       "  'browserPathName': '/editor/notebooks/3980399407905689',\n",
       "  'notebookEditorMode': 'notebook',\n",
       "  'notebookLanguage': 'python',\n",
       "  'sqlWarehouseQueryUuid': '',\n",
       "  'workspaceRoutingBucket': 'null',\n",
       "  'parentServerEventId': 'CgsI1b2wuQYQ362xERgaOhCReUmIrMhIPrh3Sn6dG4mn',\n",
       "  'sparkVersion': '15.4.x-scala2.12',\n",
       "  'executionContextId': '6581573577312494953',\n",
       "  'hostName': 'cons-webapp-31',\n",
       "  'httpMethod': 'POST',\n",
       "  'browserIdleTime': '472.5',\n",
       "  'jettyRpcJettyVersion': '9',\n",
       "  'browserLanguage': 'vi-VN',\n",
       "  'browserTabId': '2264f3d3-3750-4a55-9378-65e173ab4ce5',\n",
       "  'sourceIpAddress': '27.70.217.171',\n",
       "  'accountId': '1f35cfc8-9a6f-4f64-a6e1-bda88c4a6d1e',\n",
       "  'loadedUiVersions': 'Map(monolith -> 48cbc1d2b15182105b6975fb16895e1db1bc5862)',\n",
       "  'browserUserAgent': 'Mozilla/5.0 (Windows NT 10.0; Win64; x64) AppleWebKit/537.36 (KHTML, like Gecko) Chrome/130.0.0.0 Safari/537.36',\n",
       "  'orgId': '2167993034049761',\n",
       "  'userAgent': 'Mozilla/5.0 (Windows NT 10.0; Win64; x64) AppleWebKit/537.36 (KHTML, like Gecko) Chrome/130.0.0.0 Safari/537.36',\n",
       "  'pageId': 'webapp.notebook',\n",
       "  'clusterId': '1030-144804-tyhccfj7',\n",
       "  'workloadClass': 'commandRun',\n",
       "  'serverEventId': 'CgsI1b2wuQYQsrfvGxiyAToQD1L3n2fUR92cgXiG1EykcQ==',\n",
       "  'rootOpId': 'HttpServer-91e13be2e6776ee6',\n",
       "  'sparkJobGroupId': '1730943783462_6533653981252332612_d10dc8e54dc94e5e8369edf30cf47c13',\n",
       "  'pageViewId': '1730944658630lrgjxe4y',\n",
       "  'replId': '1730943783462',\n",
       "  'sessionId': 'auth-668fb67c86-nktxj-uif2guq0ahr118g4bvwebb1wt',\n",
       "  'clusterCreator': 'nguyenthedanh1234@gmail.com',\n",
       "  'originatedFromEnvoy': 'true',\n",
       "  'numExecutionCommands': '1',\n",
       "  'clientBranchName': 'DEPRECATED',\n",
       "  'workloadId': '412f5fe9-c692-466c-8fda-6627e58bb933',\n",
       "  'clientTimestamp': '1730944725918',\n",
       "  'clusterType': 'spot',\n",
       "  'requestId': '143e717a-587a-49c1-80f1-55fd6c420f49',\n",
       "  'browserHasFocus': 'true',\n",
       "  'commandLanguage': 'python',\n",
       "  'commandId': '6533653981252332612',\n",
       "  'queryParameters': '?o=2167993034049761',\n",
       "  'userId': '937165309313358',\n",
       "  'browserIsHidden': 'false',\n",
       "  'clientLocale': 'en',\n",
       "  'branchName': 'webapp_2024-10-29_18.53.05Z_webapp-hotfix-20241028_473ff483_1944810238',\n",
       "  'opType': 'Driver',\n",
       "  'sourcePortNumber': '0',\n",
       "  'executionId': 'd10dc8e54dc94e5e8369edf30cf47c13',\n",
       "  'user': 'nguyenthedanh1234@gmail.com',\n",
       "  'browserHostName': 'dbc-b211122e-383d.cloud.databricks.com',\n",
       "  'parentOpId': 'Driver-9de407889856156d',\n",
       "  'jettyRpcType': 'InternalDriverBackendMessages$DriverBackendRequest'},\n",
       " 'extraContext': {'mlflowGitRelativePath': 'Raw/test',\n",
       "  'allowStdin': 'true',\n",
       "  'non_uc_api_token': '[REDACTED]',\n",
       "  'commandResultJsonMaxBytes': '20971520',\n",
       "  'dbrPlatformChannel': 'CHANNEL_NAME_CURRENT',\n",
       "  'enableDeltaLiveTablesAnalysis': 'true',\n",
       "  'mlflowGitStatus': 'unknown',\n",
       "  'mlflowGitReference': 'dev',\n",
       "  'mlflowGitUrl': 'https://github.com/danhnguyen123/crypto-databricks-project.git',\n",
       "  'notebook_path': '/Users/nguyenthedanh1234@gmail.com/crypto-databricks-project/Raw/test',\n",
       "  'notebook_id': '3980399407905689',\n",
       "  'thresholdForStoringInDbfs': '10000',\n",
       "  'mlflowGitCommit': '5201bb499db0e9af57309a0b8a441dac9de3b7ed',\n",
       "  'enableStoringResultsInDbfs': 'true',\n",
       "  'mlflowGitReferenceType': 'branch',\n",
       "  'api_url': 'https://oregon.cloud.databricks.com',\n",
       "  'objectType': 'NOTEBOOK',\n",
       "  'aclPathOfAclRoot': '/workspace/1833233622194720/1833233622194722/2832525160215756/3980399407905680/3980399407905689',\n",
       "  'mlflowGitProvider': 'gitHub',\n",
       "  'api_token': '[REDACTED]'},\n",
       " 'credentialKeys': ['adls_aad_token',\n",
       "  'adls_gen2_aad_token',\n",
       "  'synapse_aad_token']}"
      ]
     },
     "execution_count": 14,
     "metadata": {},
     "output_type": "execute_result"
    }
   ],
   "source": [
    "import json \n",
    "context = json.loads(dbutils.notebook.entry_point.getDbutils().notebook().getContext().toJson())\n",
    "context"
   ]
  },
  {
   "cell_type": "code",
   "execution_count": 0,
   "metadata": {
    "application/vnd.databricks.v1+cell": {
     "cellMetadata": {
      "byteLimit": 2048000,
      "rowLimit": 10000
     },
     "inputWidgets": {},
     "nuid": "8e63e4ad-7aea-4326-8e1a-7117f8cef7e3",
     "showTitle": false,
     "tableResultSettingsMap": {},
     "title": ""
    }
   },
   "outputs": [
    {
     "output_type": "display_data",
     "data": {
      "text/plain": [
       "\u001B[0;31m---------------------------------------------------------------------------\u001B[0m\n",
       "\u001B[0;31mAnalysisException\u001B[0m                         Traceback (most recent call last)\n",
       "File \u001B[0;32m<command-443906223983611>, line 1\u001B[0m\n",
       "\u001B[0;32m----> 1\u001B[0m df\u001B[38;5;241m=\u001B[39mspark\u001B[38;5;241m.\u001B[39mread\u001B[38;5;241m.\u001B[39moption(\u001B[38;5;124m\"\u001B[39m\u001B[38;5;124mmultiline\u001B[39m\u001B[38;5;124m\"\u001B[39m, \u001B[38;5;124m\"\u001B[39m\u001B[38;5;124mtrue\u001B[39m\u001B[38;5;124m\"\u001B[39m)\u001B[38;5;241m.\u001B[39mjson(\u001B[38;5;124m\"\u001B[39m\u001B[38;5;124m/mnt/crypto-transaction-networks/unstructured_data/network_1/txn_date=2024-11-07/*/*.json\u001B[39m\u001B[38;5;124m\"\u001B[39m)\n",
       "\n",
       "File \u001B[0;32m/databricks/spark/python/pyspark/instrumentation_utils.py:47\u001B[0m, in \u001B[0;36m_wrap_function.<locals>.wrapper\u001B[0;34m(*args, **kwargs)\u001B[0m\n",
       "\u001B[1;32m     45\u001B[0m start \u001B[38;5;241m=\u001B[39m time\u001B[38;5;241m.\u001B[39mperf_counter()\n",
       "\u001B[1;32m     46\u001B[0m \u001B[38;5;28;01mtry\u001B[39;00m:\n",
       "\u001B[0;32m---> 47\u001B[0m     res \u001B[38;5;241m=\u001B[39m func(\u001B[38;5;241m*\u001B[39margs, \u001B[38;5;241m*\u001B[39m\u001B[38;5;241m*\u001B[39mkwargs)\n",
       "\u001B[1;32m     48\u001B[0m     logger\u001B[38;5;241m.\u001B[39mlog_success(\n",
       "\u001B[1;32m     49\u001B[0m         module_name, class_name, function_name, time\u001B[38;5;241m.\u001B[39mperf_counter() \u001B[38;5;241m-\u001B[39m start, signature\n",
       "\u001B[1;32m     50\u001B[0m     )\n",
       "\u001B[1;32m     51\u001B[0m     \u001B[38;5;28;01mreturn\u001B[39;00m res\n",
       "\n",
       "File \u001B[0;32m/databricks/spark/python/pyspark/sql/readwriter.py:467\u001B[0m, in \u001B[0;36mDataFrameReader.json\u001B[0;34m(self, path, schema, primitivesAsString, prefersDecimal, allowComments, allowUnquotedFieldNames, allowSingleQuotes, allowNumericLeadingZero, allowBackslashEscapingAnyCharacter, mode, columnNameOfCorruptRecord, dateFormat, timestampFormat, multiLine, allowUnquotedControlChars, lineSep, samplingRatio, dropFieldIfAllNull, encoding, locale, pathGlobFilter, recursiveFileLookup, modifiedBefore, modifiedAfter, allowNonNumericNumbers)\u001B[0m\n",
       "\u001B[1;32m    465\u001B[0m \u001B[38;5;28;01mif\u001B[39;00m \u001B[38;5;28mtype\u001B[39m(path) \u001B[38;5;241m==\u001B[39m \u001B[38;5;28mlist\u001B[39m:\n",
       "\u001B[1;32m    466\u001B[0m     \u001B[38;5;28;01massert\u001B[39;00m \u001B[38;5;28mself\u001B[39m\u001B[38;5;241m.\u001B[39m_spark\u001B[38;5;241m.\u001B[39m_sc\u001B[38;5;241m.\u001B[39m_jvm \u001B[38;5;129;01mis\u001B[39;00m \u001B[38;5;129;01mnot\u001B[39;00m \u001B[38;5;28;01mNone\u001B[39;00m\n",
       "\u001B[0;32m--> 467\u001B[0m     \u001B[38;5;28;01mreturn\u001B[39;00m \u001B[38;5;28mself\u001B[39m\u001B[38;5;241m.\u001B[39m_df(\u001B[38;5;28mself\u001B[39m\u001B[38;5;241m.\u001B[39m_jreader\u001B[38;5;241m.\u001B[39mjson(\u001B[38;5;28mself\u001B[39m\u001B[38;5;241m.\u001B[39m_spark\u001B[38;5;241m.\u001B[39m_sc\u001B[38;5;241m.\u001B[39m_jvm\u001B[38;5;241m.\u001B[39mPythonUtils\u001B[38;5;241m.\u001B[39mtoSeq(path)))\n",
       "\u001B[1;32m    469\u001B[0m \u001B[38;5;28;01mif\u001B[39;00m \u001B[38;5;129;01mnot\u001B[39;00m is_remote_only():\n",
       "\u001B[1;32m    470\u001B[0m     \u001B[38;5;28;01mfrom\u001B[39;00m \u001B[38;5;21;01mpyspark\u001B[39;00m\u001B[38;5;21;01m.\u001B[39;00m\u001B[38;5;21;01mcore\u001B[39;00m\u001B[38;5;21;01m.\u001B[39;00m\u001B[38;5;21;01mrdd\u001B[39;00m \u001B[38;5;28;01mimport\u001B[39;00m RDD  \u001B[38;5;66;03m# noqa: F401\u001B[39;00m\n",
       "\n",
       "File \u001B[0;32m/databricks/spark/python/lib/py4j-0.10.9.7-src.zip/py4j/java_gateway.py:1355\u001B[0m, in \u001B[0;36mJavaMember.__call__\u001B[0;34m(self, *args)\u001B[0m\n",
       "\u001B[1;32m   1349\u001B[0m command \u001B[38;5;241m=\u001B[39m proto\u001B[38;5;241m.\u001B[39mCALL_COMMAND_NAME \u001B[38;5;241m+\u001B[39m\\\n",
       "\u001B[1;32m   1350\u001B[0m     \u001B[38;5;28mself\u001B[39m\u001B[38;5;241m.\u001B[39mcommand_header \u001B[38;5;241m+\u001B[39m\\\n",
       "\u001B[1;32m   1351\u001B[0m     args_command \u001B[38;5;241m+\u001B[39m\\\n",
       "\u001B[1;32m   1352\u001B[0m     proto\u001B[38;5;241m.\u001B[39mEND_COMMAND_PART\n",
       "\u001B[1;32m   1354\u001B[0m answer \u001B[38;5;241m=\u001B[39m \u001B[38;5;28mself\u001B[39m\u001B[38;5;241m.\u001B[39mgateway_client\u001B[38;5;241m.\u001B[39msend_command(command)\n",
       "\u001B[0;32m-> 1355\u001B[0m return_value \u001B[38;5;241m=\u001B[39m get_return_value(\n",
       "\u001B[1;32m   1356\u001B[0m     answer, \u001B[38;5;28mself\u001B[39m\u001B[38;5;241m.\u001B[39mgateway_client, \u001B[38;5;28mself\u001B[39m\u001B[38;5;241m.\u001B[39mtarget_id, \u001B[38;5;28mself\u001B[39m\u001B[38;5;241m.\u001B[39mname)\n",
       "\u001B[1;32m   1358\u001B[0m \u001B[38;5;28;01mfor\u001B[39;00m temp_arg \u001B[38;5;129;01min\u001B[39;00m temp_args:\n",
       "\u001B[1;32m   1359\u001B[0m     \u001B[38;5;28;01mif\u001B[39;00m \u001B[38;5;28mhasattr\u001B[39m(temp_arg, \u001B[38;5;124m\"\u001B[39m\u001B[38;5;124m_detach\u001B[39m\u001B[38;5;124m\"\u001B[39m):\n",
       "\n",
       "File \u001B[0;32m/databricks/spark/python/pyspark/errors/exceptions/captured.py:261\u001B[0m, in \u001B[0;36mcapture_sql_exception.<locals>.deco\u001B[0;34m(*a, **kw)\u001B[0m\n",
       "\u001B[1;32m    257\u001B[0m converted \u001B[38;5;241m=\u001B[39m convert_exception(e\u001B[38;5;241m.\u001B[39mjava_exception)\n",
       "\u001B[1;32m    258\u001B[0m \u001B[38;5;28;01mif\u001B[39;00m \u001B[38;5;129;01mnot\u001B[39;00m \u001B[38;5;28misinstance\u001B[39m(converted, UnknownException):\n",
       "\u001B[1;32m    259\u001B[0m     \u001B[38;5;66;03m# Hide where the exception came from that shows a non-Pythonic\u001B[39;00m\n",
       "\u001B[1;32m    260\u001B[0m     \u001B[38;5;66;03m# JVM exception message.\u001B[39;00m\n",
       "\u001B[0;32m--> 261\u001B[0m     \u001B[38;5;28;01mraise\u001B[39;00m converted \u001B[38;5;28;01mfrom\u001B[39;00m \u001B[38;5;28;01mNone\u001B[39;00m\n",
       "\u001B[1;32m    262\u001B[0m \u001B[38;5;28;01melse\u001B[39;00m:\n",
       "\u001B[1;32m    263\u001B[0m     \u001B[38;5;28;01mraise\u001B[39;00m\n",
       "\n",
       "\u001B[0;31mAnalysisException\u001B[0m: [PATH_NOT_FOUND] Path does not exist: dbfs:/mnt/crypto-transaction-networks/unstructured_data/network_1/txn_date=2024-11-07/*/*.json. SQLSTATE: 42K03"
      ]
     },
     "metadata": {
      "application/vnd.databricks.v1+output": {
       "addedWidgets": {},
       "arguments": {},
       "datasetInfos": [],
       "jupyterProps": {
        "ename": "AnalysisException",
        "evalue": "[PATH_NOT_FOUND] Path does not exist: dbfs:/mnt/crypto-transaction-networks/unstructured_data/network_1/txn_date=2024-11-07/*/*.json. SQLSTATE: 42K03"
       },
       "metadata": {
        "errorSummary": "[PATH_NOT_FOUND] Path does not exist: dbfs:/mnt/crypto-transaction-networks/unstructured_data/network_1/txn_date=2024-11-07/*/*.json. SQLSTATE: 42K03"
       },
       "removedWidgets": [],
       "sqlProps": {
        "errorClass": "PATH_NOT_FOUND",
        "pysparkCallSite": null,
        "pysparkFragment": null,
        "sqlState": "42K03",
        "stackTrace": null,
        "startIndex": null,
        "stopIndex": null
       },
       "stackFrames": [
        "\u001B[0;31m---------------------------------------------------------------------------\u001B[0m",
        "\u001B[0;31mAnalysisException\u001B[0m                         Traceback (most recent call last)",
        "File \u001B[0;32m<command-443906223983611>, line 1\u001B[0m\n\u001B[0;32m----> 1\u001B[0m df\u001B[38;5;241m=\u001B[39mspark\u001B[38;5;241m.\u001B[39mread\u001B[38;5;241m.\u001B[39moption(\u001B[38;5;124m\"\u001B[39m\u001B[38;5;124mmultiline\u001B[39m\u001B[38;5;124m\"\u001B[39m, \u001B[38;5;124m\"\u001B[39m\u001B[38;5;124mtrue\u001B[39m\u001B[38;5;124m\"\u001B[39m)\u001B[38;5;241m.\u001B[39mjson(\u001B[38;5;124m\"\u001B[39m\u001B[38;5;124m/mnt/crypto-transaction-networks/unstructured_data/network_1/txn_date=2024-11-07/*/*.json\u001B[39m\u001B[38;5;124m\"\u001B[39m)\n",
        "File \u001B[0;32m/databricks/spark/python/pyspark/instrumentation_utils.py:47\u001B[0m, in \u001B[0;36m_wrap_function.<locals>.wrapper\u001B[0;34m(*args, **kwargs)\u001B[0m\n\u001B[1;32m     45\u001B[0m start \u001B[38;5;241m=\u001B[39m time\u001B[38;5;241m.\u001B[39mperf_counter()\n\u001B[1;32m     46\u001B[0m \u001B[38;5;28;01mtry\u001B[39;00m:\n\u001B[0;32m---> 47\u001B[0m     res \u001B[38;5;241m=\u001B[39m func(\u001B[38;5;241m*\u001B[39margs, \u001B[38;5;241m*\u001B[39m\u001B[38;5;241m*\u001B[39mkwargs)\n\u001B[1;32m     48\u001B[0m     logger\u001B[38;5;241m.\u001B[39mlog_success(\n\u001B[1;32m     49\u001B[0m         module_name, class_name, function_name, time\u001B[38;5;241m.\u001B[39mperf_counter() \u001B[38;5;241m-\u001B[39m start, signature\n\u001B[1;32m     50\u001B[0m     )\n\u001B[1;32m     51\u001B[0m     \u001B[38;5;28;01mreturn\u001B[39;00m res\n",
        "File \u001B[0;32m/databricks/spark/python/pyspark/sql/readwriter.py:467\u001B[0m, in \u001B[0;36mDataFrameReader.json\u001B[0;34m(self, path, schema, primitivesAsString, prefersDecimal, allowComments, allowUnquotedFieldNames, allowSingleQuotes, allowNumericLeadingZero, allowBackslashEscapingAnyCharacter, mode, columnNameOfCorruptRecord, dateFormat, timestampFormat, multiLine, allowUnquotedControlChars, lineSep, samplingRatio, dropFieldIfAllNull, encoding, locale, pathGlobFilter, recursiveFileLookup, modifiedBefore, modifiedAfter, allowNonNumericNumbers)\u001B[0m\n\u001B[1;32m    465\u001B[0m \u001B[38;5;28;01mif\u001B[39;00m \u001B[38;5;28mtype\u001B[39m(path) \u001B[38;5;241m==\u001B[39m \u001B[38;5;28mlist\u001B[39m:\n\u001B[1;32m    466\u001B[0m     \u001B[38;5;28;01massert\u001B[39;00m \u001B[38;5;28mself\u001B[39m\u001B[38;5;241m.\u001B[39m_spark\u001B[38;5;241m.\u001B[39m_sc\u001B[38;5;241m.\u001B[39m_jvm \u001B[38;5;129;01mis\u001B[39;00m \u001B[38;5;129;01mnot\u001B[39;00m \u001B[38;5;28;01mNone\u001B[39;00m\n\u001B[0;32m--> 467\u001B[0m     \u001B[38;5;28;01mreturn\u001B[39;00m \u001B[38;5;28mself\u001B[39m\u001B[38;5;241m.\u001B[39m_df(\u001B[38;5;28mself\u001B[39m\u001B[38;5;241m.\u001B[39m_jreader\u001B[38;5;241m.\u001B[39mjson(\u001B[38;5;28mself\u001B[39m\u001B[38;5;241m.\u001B[39m_spark\u001B[38;5;241m.\u001B[39m_sc\u001B[38;5;241m.\u001B[39m_jvm\u001B[38;5;241m.\u001B[39mPythonUtils\u001B[38;5;241m.\u001B[39mtoSeq(path)))\n\u001B[1;32m    469\u001B[0m \u001B[38;5;28;01mif\u001B[39;00m \u001B[38;5;129;01mnot\u001B[39;00m is_remote_only():\n\u001B[1;32m    470\u001B[0m     \u001B[38;5;28;01mfrom\u001B[39;00m \u001B[38;5;21;01mpyspark\u001B[39;00m\u001B[38;5;21;01m.\u001B[39;00m\u001B[38;5;21;01mcore\u001B[39;00m\u001B[38;5;21;01m.\u001B[39;00m\u001B[38;5;21;01mrdd\u001B[39;00m \u001B[38;5;28;01mimport\u001B[39;00m RDD  \u001B[38;5;66;03m# noqa: F401\u001B[39;00m\n",
        "File \u001B[0;32m/databricks/spark/python/lib/py4j-0.10.9.7-src.zip/py4j/java_gateway.py:1355\u001B[0m, in \u001B[0;36mJavaMember.__call__\u001B[0;34m(self, *args)\u001B[0m\n\u001B[1;32m   1349\u001B[0m command \u001B[38;5;241m=\u001B[39m proto\u001B[38;5;241m.\u001B[39mCALL_COMMAND_NAME \u001B[38;5;241m+\u001B[39m\\\n\u001B[1;32m   1350\u001B[0m     \u001B[38;5;28mself\u001B[39m\u001B[38;5;241m.\u001B[39mcommand_header \u001B[38;5;241m+\u001B[39m\\\n\u001B[1;32m   1351\u001B[0m     args_command \u001B[38;5;241m+\u001B[39m\\\n\u001B[1;32m   1352\u001B[0m     proto\u001B[38;5;241m.\u001B[39mEND_COMMAND_PART\n\u001B[1;32m   1354\u001B[0m answer \u001B[38;5;241m=\u001B[39m \u001B[38;5;28mself\u001B[39m\u001B[38;5;241m.\u001B[39mgateway_client\u001B[38;5;241m.\u001B[39msend_command(command)\n\u001B[0;32m-> 1355\u001B[0m return_value \u001B[38;5;241m=\u001B[39m get_return_value(\n\u001B[1;32m   1356\u001B[0m     answer, \u001B[38;5;28mself\u001B[39m\u001B[38;5;241m.\u001B[39mgateway_client, \u001B[38;5;28mself\u001B[39m\u001B[38;5;241m.\u001B[39mtarget_id, \u001B[38;5;28mself\u001B[39m\u001B[38;5;241m.\u001B[39mname)\n\u001B[1;32m   1358\u001B[0m \u001B[38;5;28;01mfor\u001B[39;00m temp_arg \u001B[38;5;129;01min\u001B[39;00m temp_args:\n\u001B[1;32m   1359\u001B[0m     \u001B[38;5;28;01mif\u001B[39;00m \u001B[38;5;28mhasattr\u001B[39m(temp_arg, \u001B[38;5;124m\"\u001B[39m\u001B[38;5;124m_detach\u001B[39m\u001B[38;5;124m\"\u001B[39m):\n",
        "File \u001B[0;32m/databricks/spark/python/pyspark/errors/exceptions/captured.py:261\u001B[0m, in \u001B[0;36mcapture_sql_exception.<locals>.deco\u001B[0;34m(*a, **kw)\u001B[0m\n\u001B[1;32m    257\u001B[0m converted \u001B[38;5;241m=\u001B[39m convert_exception(e\u001B[38;5;241m.\u001B[39mjava_exception)\n\u001B[1;32m    258\u001B[0m \u001B[38;5;28;01mif\u001B[39;00m \u001B[38;5;129;01mnot\u001B[39;00m \u001B[38;5;28misinstance\u001B[39m(converted, UnknownException):\n\u001B[1;32m    259\u001B[0m     \u001B[38;5;66;03m# Hide where the exception came from that shows a non-Pythonic\u001B[39;00m\n\u001B[1;32m    260\u001B[0m     \u001B[38;5;66;03m# JVM exception message.\u001B[39;00m\n\u001B[0;32m--> 261\u001B[0m     \u001B[38;5;28;01mraise\u001B[39;00m converted \u001B[38;5;28;01mfrom\u001B[39;00m \u001B[38;5;28;01mNone\u001B[39;00m\n\u001B[1;32m    262\u001B[0m \u001B[38;5;28;01melse\u001B[39;00m:\n\u001B[1;32m    263\u001B[0m     \u001B[38;5;28;01mraise\u001B[39;00m\n",
        "\u001B[0;31mAnalysisException\u001B[0m: [PATH_NOT_FOUND] Path does not exist: dbfs:/mnt/crypto-transaction-networks/unstructured_data/network_1/txn_date=2024-11-07/*/*.json. SQLSTATE: 42K03"
       ],
       "type": "baseError"
      }
     },
     "output_type": "display_data"
    }
   ],
   "source": [
    "df=spark.read.option(\"multiline\", \"true\").json(\"/mnt/crypto-transaction-networks/unstructured_data/network_1/txn_date=2024-11-07/*/*.json\")"
   ]
  },
  {
   "cell_type": "code",
   "execution_count": 0,
   "metadata": {
    "application/vnd.databricks.v1+cell": {
     "cellMetadata": {
      "byteLimit": 2048000,
      "rowLimit": 10000
     },
     "inputWidgets": {},
     "nuid": "0cd99fd9-6001-4784-9f76-3ecb7af8fada",
     "showTitle": false,
     "tableResultSettingsMap": {},
     "title": ""
    }
   },
   "outputs": [
    {
     "output_type": "execute_result",
     "data": {
      "text/plain": [
       "[FileInfo(path='dbfs:/mnt/crypto-transaction-networks/unstructured_data/network_1/txn_date=2024-11-07/data_1.json', name='data_1.json', size=21485, modificationTime=1730951387000),\n",
       " FileInfo(path='dbfs:/mnt/crypto-transaction-networks/unstructured_data/network_1/txn_date=2024-11-07/data_2.json', name='data_2.json', size=21485, modificationTime=1730951387000)]"
      ]
     },
     "execution_count": 4,
     "metadata": {},
     "output_type": "execute_result"
    }
   ],
   "source": [
    "dbutils.fs.ls(\"/mnt/crypto-transaction-networks/unstructured_data/network_1/txn_date=2024-11-07\")"
   ]
  }
 ],
 "metadata": {
  "application/vnd.databricks.v1+notebook": {
   "dashboards": [],
   "environmentMetadata": {
    "base_environment": "",
    "client": "1"
   },
   "language": "python",
   "notebookMetadata": {
    "pythonIndentUnit": 4
   },
   "notebookName": "test",
   "widgets": {
    "p_txn_date": {
     "currentValue": "2023-10-28",
     "nuid": "7ddb2d79-5e85-4106-b792-e3e85b4f5ed3",
     "typedWidgetInfo": {
      "autoCreated": false,
      "defaultValue": "2023-10-28",
      "label": "",
      "name": "p_txn_date",
      "options": {
       "widgetDisplayType": "Text",
       "validationRegex": null
      },
      "parameterDataType": "String"
     },
     "widgetInfo": {
      "widgetType": "text",
      "defaultValue": "2023-10-28",
      "label": "",
      "name": "p_txn_date",
      "options": {
       "widgetType": "text",
       "autoCreated": false,
       "validationRegex": null
      }
     }
    }
   }
  },
  "language_info": {
   "name": "python"
  }
 },
 "nbformat": 4,
 "nbformat_minor": 0
}
